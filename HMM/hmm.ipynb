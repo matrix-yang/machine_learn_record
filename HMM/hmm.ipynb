{
 "cells": [
  {
   "cell_type": "code",
   "execution_count": 1,
   "metadata": {},
   "outputs": [],
   "source": [
    "import numpy as np\n",
    "from hmmlearn import hmm"
   ]
  },
  {
   "cell_type": "markdown",
   "metadata": {},
   "source": [
    "# 解码问题"
   ]
  },
  {
   "cell_type": "code",
   "execution_count": 8,
   "metadata": {},
   "outputs": [],
   "source": [
    "status = ['盒子1', '盒子2', '盒子3']\n",
    "obs = ['白球', '黑球']\n",
    "n_status = len(status)\n",
    "m_obs = len(obs)\n",
    "start_probability = np.array([0.2, 0.5, 0.3])\n",
    "transition_probability = np.array([\n",
    "    [0.5, 0.4, 0.1],\n",
    "    [0.2, 0.2, 0.6],\n",
    "    [0.2, 0.5, 0.3]\n",
    "])\n",
    "emission_probalitity = np.array([\n",
    "    [0.4, 0.6],\n",
    "    [0.8, 0.2],\n",
    "    [0.5, 0.5]\n",
    "])"
   ]
  },
  {
   "cell_type": "code",
   "execution_count": 9,
   "metadata": {},
   "outputs": [],
   "source": [
    "model = hmm.MultinomialHMM(n_components=n_status)\n",
    "model.startprob_ = start_probability\n",
    "model.transmat_ = transition_probability\n",
    "model.emissionprob_ = emission_probalitity"
   ]
  },
  {
   "cell_type": "code",
   "execution_count": 3,
   "metadata": {},
   "outputs": [],
   "source": [
    "lr = hmm.GaussianHMM(n_components=3, covariance_type=\"diag\",\n",
    "                     init_params=\"cm\", params=\"cmt\")\n",
    "lr.startprob_ = np.array([1.0, 0.0, 0.0])\n",
    "lr.transmat_ = np.array([[0.5, 0.5, 0.0],\n",
    "                         [0.0, 0.5, 0.5],\n",
    "                         [0.0, 0.0, 1.0]])"
   ]
  },
  {
   "cell_type": "code",
   "execution_count": 10,
   "metadata": {},
   "outputs": [
    {
     "name": "stdout",
     "output_type": "stream",
     "text": [
      "颜色:白球 黑球 白球 白球 黑球\n",
      "盒子:盒子2 盒子3 盒子2 盒子2 盒子3\n",
      "概率值:0.002304\n"
     ]
    }
   ],
   "source": [
    "se = np.array([[0, 1, 0, 0, 1]]).T\n",
    "logprob, box_index = model.decode(se, algorithm='viterbi')\n",
    "print(\"颜色:\", end=\"\")\n",
    "print(\" \".join(map(lambda t: obs[t], [0, 1, 0, 0, 1])))\n",
    "print(\"盒子:\", end=\"\")\n",
    "print(\" \".join(map(lambda t: status[t], box_index)))\n",
    "print(\"概率值:\", end=\"\")\n",
    "print(np.exp(logprob)) # 这个是因为在hmmlearn底层将概率进行了对数化，防止出现乘积为0的情况"
   ]
  },
  {
   "cell_type": "markdown",
   "metadata": {},
   "source": [
    "# 学习问题"
   ]
  },
  {
   "cell_type": "code",
   "execution_count": 18,
   "metadata": {},
   "outputs": [
    {
     "name": "stdout",
     "output_type": "stream",
     "text": [
      "输出根据数据训练出来的π\n",
      "[5.59218652e-15 1.70910463e-05 9.99982909e-01]\n",
      "输出根据数据训练出来的A\n",
      "[[0.2328616  0.48618535 0.28095305]\n",
      " [0.32575194 0.28842794 0.38582012]\n",
      " [0.76944746 0.12658644 0.1039661 ]]\n",
      "输出根据数据训练出来的B\n",
      "[[0.14116243 0.85883757]\n",
      " [0.70770002 0.29229998]\n",
      " [0.97270477 0.02729523]]\n"
     ]
    }
   ],
   "source": [
    "states = ['盒子1', '盒子2', '盒子3']\n",
    "obs = ['白球', '黑球']\n",
    "n_states = len(states)\n",
    "m_obs = len(obs)\n",
    "\n",
    "model2 = hmm.MultinomialHMM(n_components=n_states, n_iter=20, tol=0.001)\n",
    "#五个观测序列\n",
    "X2 = np.array([\n",
    "    [0, 1, 0, 0, 1],\n",
    "    [0, 0, 0, 1, 1],\n",
    "    [1, 1, 0, 1, 0],\n",
    "    [0, 1, 0, 1, 1],\n",
    "    [0, 0, 0, 1, 0]\n",
    "])\n",
    "model2.fit(X2)\n",
    "print(\"输出根据数据训练出来的π\")\n",
    "print(model2.startprob_)\n",
    "print(\"输出根据数据训练出来的A\")\n",
    "print(model2.transmat_)\n",
    "print(\"输出根据数据训练出来的B\")\n",
    "print(model2.emissionprob_)"
   ]
  },
  {
   "cell_type": "code",
   "execution_count": null,
   "metadata": {},
   "outputs": [],
   "source": []
  }
 ],
 "metadata": {
  "kernelspec": {
   "display_name": "base",
   "language": "python",
   "name": "test"
  },
  "language_info": {
   "codemirror_mode": {
    "name": "ipython",
    "version": 3
   },
   "file_extension": ".py",
   "mimetype": "text/x-python",
   "name": "python",
   "nbconvert_exporter": "python",
   "pygments_lexer": "ipython3",
   "version": "3.6.5"
  }
 },
 "nbformat": 4,
 "nbformat_minor": 2
}
