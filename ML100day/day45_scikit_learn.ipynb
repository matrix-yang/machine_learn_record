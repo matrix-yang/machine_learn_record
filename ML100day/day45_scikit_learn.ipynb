{
 "cells": [
  {
   "cell_type": "markdown",
   "metadata": {},
   "source": [
    "# 超参选择与模型验证"
   ]
  },
  {
   "cell_type": "code",
   "execution_count": 1,
   "metadata": {},
   "outputs": [],
   "source": [
    "from sklearn.datasets import load_iris\n",
    "iris = load_iris()\n",
    "X = iris.data\n",
    "y = iris.target"
   ]
  },
  {
   "cell_type": "code",
   "execution_count": 2,
   "metadata": {},
   "outputs": [
    {
     "name": "stderr",
     "output_type": "stream",
     "text": [
      "e:\\Anaconda3\\lib\\site-packages\\sklearn\\cross_validation.py:41: DeprecationWarning: This module was deprecated in version 0.18 in favor of the model_selection module into which all the refactored classes and functions are moved. Also note that the interface of the new CV iterators are different from that of this module. This module will be removed in 0.20.\n",
      "  \"This module will be removed in 0.20.\", DeprecationWarning)\n"
     ]
    }
   ],
   "source": [
    "from sklearn.cross_validation import train_test_split\n",
    "xtr,xte,ytr,yte=train_test_split(X,y,random_state=0,train_size=0.7)"
   ]
  },
  {
   "cell_type": "code",
   "execution_count": 3,
   "metadata": {},
   "outputs": [],
   "source": [
    "from sklearn.neighbors import KNeighborsClassifier\n",
    "model = KNeighborsClassifier(n_neighbors=1)"
   ]
  },
  {
   "cell_type": "code",
   "execution_count": 4,
   "metadata": {},
   "outputs": [
    {
     "data": {
      "text/plain": [
       "KNeighborsClassifier(algorithm='auto', leaf_size=30, metric='minkowski',\n",
       "           metric_params=None, n_jobs=1, n_neighbors=1, p=2,\n",
       "           weights='uniform')"
      ]
     },
     "execution_count": 4,
     "metadata": {},
     "output_type": "execute_result"
    }
   ],
   "source": [
    "model.fit(xtr,ytr)"
   ]
  },
  {
   "cell_type": "code",
   "execution_count": 5,
   "metadata": {},
   "outputs": [
    {
     "data": {
      "text/plain": [
       "0.9777777777777777"
      ]
     },
     "execution_count": 5,
     "metadata": {},
     "output_type": "execute_result"
    }
   ],
   "source": [
    "from sklearn.metrics import accuracy_score\n",
    "ypdt=model.predict(xte)\n",
    "accuracy_score(yte,ypdt)"
   ]
  },
  {
   "cell_type": "code",
   "execution_count": 6,
   "metadata": {},
   "outputs": [
    {
     "data": {
      "text/plain": [
       "array([1.        , 0.93333333, 1.        , 0.93333333, 0.86666667,\n",
       "       1.        , 0.86666667, 1.        , 1.        , 1.        ])"
      ]
     },
     "execution_count": 6,
     "metadata": {},
     "output_type": "execute_result"
    }
   ],
   "source": [
    "from sklearn.cross_validation import cross_val_score\n",
    "cross_val_score(model,X,y,cv=10)"
   ]
  },
  {
   "cell_type": "code",
   "execution_count": 7,
   "metadata": {},
   "outputs": [],
   "source": [
    "from sklearn.preprocessing import PolynomialFeatures\n",
    "from sklearn.linear_model import LinearRegression\n",
    "from sklearn.pipeline import make_pipeline\n",
    "def PolynomialRegression(degree=2, **kwargs):\n",
    "    return make_pipeline(PolynomialFeatures(degree),LinearRegression(**kwargs))"
   ]
  },
  {
   "cell_type": "code",
   "execution_count": 8,
   "metadata": {},
   "outputs": [],
   "source": [
    "import numpy as np\n",
    "def make_data(N, err=1.0, rseed=1):\n",
    "# 随机轴样数据\n",
    "    rng = np.random.RandomState(rseed)\n",
    "    X = rng.rand(N, 1) ** 2\n",
    "    y = 10 - 1. / (X.ravel() + 0.1)\n",
    "    if err > 0:\n",
    "        y += err * rng.randn(N)\n",
    "    return X, y\n",
    "X, y = make_data(40)"
   ]
  },
  {
   "cell_type": "code",
   "execution_count": 9,
   "metadata": {},
   "outputs": [],
   "source": [
    "import matplotlib.pyplot as plt\n",
    "import seaborn; seaborn.set() # 设置图形样式"
   ]
  },
  {
   "cell_type": "code",
   "execution_count": 10,
   "metadata": {},
   "outputs": [
    {
     "data": {
      "text/plain": [
       "<matplotlib.collections.PathCollection at 0x1ae9cbcc6a0>"
      ]
     },
     "execution_count": 10,
     "metadata": {},
     "output_type": "execute_result"
    },
    {
     "data": {
      "image/png": "[encoded data removed]",
      "text/plain": [
       "<Figure size 432x288 with 1 Axes>"
      ]
     },
     "metadata": {},
     "output_type": "display_data"
    }
   ],
   "source": [
    "fig=plt.figure()\n",
    "plt.scatter(X,y,color='black')"
   ]
  },
  {
   "cell_type": "code",
   "execution_count": 11,
   "metadata": {},
   "outputs": [
    {
     "data": {
      "text/plain": [
       "array([[-1.00000000e-01],\n",
       "       [-9.75951904e-02],\n",
       "       [-9.51903808e-02],\n",
       "       [-9.27855711e-02],\n",
       "       [-9.03807615e-02],\n",
       "       [-8.79759519e-02],\n",
       "       [-8.55711423e-02],\n",
       "       [-8.31663327e-02],\n",
       "       [-8.07615230e-02],\n",
       "       [-7.83567134e-02],\n",
       "       [-7.59519038e-02],\n",
       "       [-7.35470942e-02],\n",
       "       [-7.11422846e-02],\n",
       "       [-6.87374749e-02],\n",
       "       [-6.63326653e-02],\n",
       "       [-6.39278557e-02],\n",
       "       [-6.15230461e-02],\n",
       "       [-5.91182365e-02],\n",
       "       [-5.67134269e-02],\n",
       "       [-5.43086172e-02],\n",
       "       [-5.19038076e-02],\n",
       "       [-4.94989980e-02],\n",
       "       [-4.70941884e-02],\n",
       "       [-4.46893788e-02],\n",
       "       [-4.22845691e-02],\n",
       "       [-3.98797595e-02],\n",
       "       [-3.74749499e-02],\n",
       "       [-3.50701403e-02],\n",
       "       [-3.26653307e-02],\n",
       "       [-3.02605210e-02],\n",
       "       [-2.78557114e-02],\n",
       "       [-2.54509018e-02],\n",
       "       [-2.30460922e-02],\n",
       "       [-2.06412826e-02],\n",
       "       [-1.82364729e-02],\n",
       "       [-1.58316633e-02],\n",
       "       [-1.34268537e-02],\n",
       "       [-1.10220441e-02],\n",
       "       [-8.61723447e-03],\n",
       "       [-6.21242485e-03],\n",
       "       [-3.80761523e-03],\n",
       "       [-1.40280561e-03],\n",
       "       [ 1.00200401e-03],\n",
       "       [ 3.40681363e-03],\n",
       "       [ 5.81162325e-03],\n",
       "       [ 8.21643287e-03],\n",
       "       [ 1.06212425e-02],\n",
       "       [ 1.30260521e-02],\n",
       "       [ 1.54308617e-02],\n",
       "       [ 1.78356713e-02],\n",
       "       [ 2.02404810e-02],\n",
       "       [ 2.26452906e-02],\n",
       "       [ 2.50501002e-02],\n",
       "       [ 2.74549098e-02],\n",
       "       [ 2.98597194e-02],\n",
       "       [ 3.22645291e-02],\n",
       "       [ 3.46693387e-02],\n",
       "       [ 3.70741483e-02],\n",
       "       [ 3.94789579e-02],\n",
       "       [ 4.18837675e-02],\n",
       "       [ 4.42885772e-02],\n",
       "       [ 4.66933868e-02],\n",
       "       [ 4.90981964e-02],\n",
       "       [ 5.15030060e-02],\n",
       "       [ 5.39078156e-02],\n",
       "       [ 5.63126253e-02],\n",
       "       [ 5.87174349e-02],\n",
       "       [ 6.11222445e-02],\n",
       "       [ 6.35270541e-02],\n",
       "       [ 6.59318637e-02],\n",
       "       [ 6.83366733e-02],\n",
       "       [ 7.07414830e-02],\n",
       "       [ 7.31462926e-02],\n",
       "       [ 7.55511022e-02],\n",
       "       [ 7.79559118e-02],\n",
       "       [ 8.03607214e-02],\n",
       "       [ 8.27655311e-02],\n",
       "       [ 8.51703407e-02],\n",
       "       [ 8.75751503e-02],\n",
       "       [ 8.99799599e-02],\n",
       "       [ 9.23847695e-02],\n",
       "       [ 9.47895792e-02],\n",
       "       [ 9.71943888e-02],\n",
       "       [ 9.95991984e-02],\n",
       "       [ 1.02004008e-01],\n",
       "       [ 1.04408818e-01],\n",
       "       [ 1.06813627e-01],\n",
       "       [ 1.09218437e-01],\n",
       "       [ 1.11623246e-01],\n",
       "       [ 1.14028056e-01],\n",
       "       [ 1.16432866e-01],\n",
       "       [ 1.18837675e-01],\n",
       "       [ 1.21242485e-01],\n",
       "       [ 1.23647295e-01],\n",
       "       [ 1.26052104e-01],\n",
       "       [ 1.28456914e-01],\n",
       "       [ 1.30861723e-01],\n",
       "       [ 1.33266533e-01],\n",
       "       [ 1.35671343e-01],\n",
       "       [ 1.38076152e-01],\n",
       "       [ 1.40480962e-01],\n",
       "       [ 1.42885772e-01],\n",
       "       [ 1.45290581e-01],\n",
       "       [ 1.47695391e-01],\n",
       "       [ 1.50100200e-01],\n",
       "       [ 1.52505010e-01],\n",
       "       [ 1.54909820e-01],\n",
       "       [ 1.57314629e-01],\n",
       "       [ 1.59719439e-01],\n",
       "       [ 1.62124248e-01],\n",
       "       [ 1.64529058e-01],\n",
       "       [ 1.66933868e-01],\n",
       "       [ 1.69338677e-01],\n",
       "       [ 1.71743487e-01],\n",
       "       [ 1.74148297e-01],\n",
       "       [ 1.76553106e-01],\n",
       "       [ 1.78957916e-01],\n",
       "       [ 1.81362725e-01],\n",
       "       [ 1.83767535e-01],\n",
       "       [ 1.86172345e-01],\n",
       "       [ 1.88577154e-01],\n",
       "       [ 1.90981964e-01],\n",
       "       [ 1.93386774e-01],\n",
       "       [ 1.95791583e-01],\n",
       "       [ 1.98196393e-01],\n",
       "       [ 2.00601202e-01],\n",
       "       [ 2.03006012e-01],\n",
       "       [ 2.05410822e-01],\n",
       "       [ 2.07815631e-01],\n",
       "       [ 2.10220441e-01],\n",
       "       [ 2.12625251e-01],\n",
       "       [ 2.15030060e-01],\n",
       "       [ 2.17434870e-01],\n",
       "       [ 2.19839679e-01],\n",
       "       [ 2.22244489e-01],\n",
       "       [ 2.24649299e-01],\n",
       "       [ 2.27054108e-01],\n",
       "       [ 2.29458918e-01],\n",
       "       [ 2.31863727e-01],\n",
       "       [ 2.34268537e-01],\n",
       "       [ 2.36673347e-01],\n",
       "       [ 2.39078156e-01],\n",
       "       [ 2.41482966e-01],\n",
       "       [ 2.43887776e-01],\n",
       "       [ 2.46292585e-01],\n",
       "       [ 2.48697395e-01],\n",
       "       [ 2.51102204e-01],\n",
       "       [ 2.53507014e-01],\n",
       "       [ 2.55911824e-01],\n",
       "       [ 2.58316633e-01],\n",
       "       [ 2.60721443e-01],\n",
       "       [ 2.63126253e-01],\n",
       "       [ 2.65531062e-01],\n",
       "       [ 2.67935872e-01],\n",
       "       [ 2.70340681e-01],\n",
       "       [ 2.72745491e-01],\n",
       "       [ 2.75150301e-01],\n",
       "       [ 2.77555110e-01],\n",
       "       [ 2.79959920e-01],\n",
       "       [ 2.82364729e-01],\n",
       "       [ 2.84769539e-01],\n",
       "       [ 2.87174349e-01],\n",
       "       [ 2.89579158e-01],\n",
       "       [ 2.91983968e-01],\n",
       "       [ 2.94388778e-01],\n",
       "       [ 2.96793587e-01],\n",
       "       [ 2.99198397e-01],\n",
       "       [ 3.01603206e-01],\n",
       "       [ 3.04008016e-01],\n",
       "       [ 3.06412826e-01],\n",
       "       [ 3.08817635e-01],\n",
       "       [ 3.11222445e-01],\n",
       "       [ 3.13627255e-01],\n",
       "       [ 3.16032064e-01],\n",
       "       [ 3.18436874e-01],\n",
       "       [ 3.20841683e-01],\n",
       "       [ 3.23246493e-01],\n",
       "       [ 3.25651303e-01],\n",
       "       [ 3.28056112e-01],\n",
       "       [ 3.30460922e-01],\n",
       "       [ 3.32865731e-01],\n",
       "       [ 3.35270541e-01],\n",
       "       [ 3.37675351e-01],\n",
       "       [ 3.40080160e-01],\n",
       "       [ 3.42484970e-01],\n",
       "       [ 3.44889780e-01],\n",
       "       [ 3.47294589e-01],\n",
       "       [ 3.49699399e-01],\n",
       "       [ 3.52104208e-01],\n",
       "       [ 3.54509018e-01],\n",
       "       [ 3.56913828e-01],\n",
       "       [ 3.59318637e-01],\n",
       "       [ 3.61723447e-01],\n",
       "       [ 3.64128257e-01],\n",
       "       [ 3.66533066e-01],\n",
       "       [ 3.68937876e-01],\n",
       "       [ 3.71342685e-01],\n",
       "       [ 3.73747495e-01],\n",
       "       [ 3.76152305e-01],\n",
       "       [ 3.78557114e-01],\n",
       "       [ 3.80961924e-01],\n",
       "       [ 3.83366733e-01],\n",
       "       [ 3.85771543e-01],\n",
       "       [ 3.88176353e-01],\n",
       "       [ 3.90581162e-01],\n",
       "       [ 3.92985972e-01],\n",
       "       [ 3.95390782e-01],\n",
       "       [ 3.97795591e-01],\n",
       "       [ 4.00200401e-01],\n",
       "       [ 4.02605210e-01],\n",
       "       [ 4.05010020e-01],\n",
       "       [ 4.07414830e-01],\n",
       "       [ 4.09819639e-01],\n",
       "       [ 4.12224449e-01],\n",
       "       [ 4.14629259e-01],\n",
       "       [ 4.17034068e-01],\n",
       "       [ 4.19438878e-01],\n",
       "       [ 4.21843687e-01],\n",
       "       [ 4.24248497e-01],\n",
       "       [ 4.26653307e-01],\n",
       "       [ 4.29058116e-01],\n",
       "       [ 4.31462926e-01],\n",
       "       [ 4.33867735e-01],\n",
       "       [ 4.36272545e-01],\n",
       "       [ 4.38677355e-01],\n",
       "       [ 4.41082164e-01],\n",
       "       [ 4.43486974e-01],\n",
       "       [ 4.45891784e-01],\n",
       "       [ 4.48296593e-01],\n",
       "       [ 4.50701403e-01],\n",
       "       [ 4.53106212e-01],\n",
       "       [ 4.55511022e-01],\n",
       "       [ 4.57915832e-01],\n",
       "       [ 4.60320641e-01],\n",
       "       [ 4.62725451e-01],\n",
       "       [ 4.65130261e-01],\n",
       "       [ 4.67535070e-01],\n",
       "       [ 4.69939880e-01],\n",
       "       [ 4.72344689e-01],\n",
       "       [ 4.74749499e-01],\n",
       "       [ 4.77154309e-01],\n",
       "       [ 4.79559118e-01],\n",
       "       [ 4.81963928e-01],\n",
       "       [ 4.84368737e-01],\n",
       "       [ 4.86773547e-01],\n",
       "       [ 4.89178357e-01],\n",
       "       [ 4.91583166e-01],\n",
       "       [ 4.93987976e-01],\n",
       "       [ 4.96392786e-01],\n",
       "       [ 4.98797595e-01],\n",
       "       [ 5.01202405e-01],\n",
       "       [ 5.03607214e-01],\n",
       "       [ 5.06012024e-01],\n",
       "       [ 5.08416834e-01],\n",
       "       [ 5.10821643e-01],\n",
       "       [ 5.13226453e-01],\n",
       "       [ 5.15631263e-01],\n",
       "       [ 5.18036072e-01],\n",
       "       [ 5.20440882e-01],\n",
       "       [ 5.22845691e-01],\n",
       "       [ 5.25250501e-01],\n",
       "       [ 5.27655311e-01],\n",
       "       [ 5.30060120e-01],\n",
       "       [ 5.32464930e-01],\n",
       "       [ 5.34869739e-01],\n",
       "       [ 5.37274549e-01],\n",
       "       [ 5.39679359e-01],\n",
       "       [ 5.42084168e-01],\n",
       "       [ 5.44488978e-01],\n",
       "       [ 5.46893788e-01],\n",
       "       [ 5.49298597e-01],\n",
       "       [ 5.51703407e-01],\n",
       "       [ 5.54108216e-01],\n",
       "       [ 5.56513026e-01],\n",
       "       [ 5.58917836e-01],\n",
       "       [ 5.61322645e-01],\n",
       "       [ 5.63727455e-01],\n",
       "       [ 5.66132265e-01],\n",
       "       [ 5.68537074e-01],\n",
       "       [ 5.70941884e-01],\n",
       "       [ 5.73346693e-01],\n",
       "       [ 5.75751503e-01],\n",
       "       [ 5.78156313e-01],\n",
       "       [ 5.80561122e-01],\n",
       "       [ 5.82965932e-01],\n",
       "       [ 5.85370741e-01],\n",
       "       [ 5.87775551e-01],\n",
       "       [ 5.90180361e-01],\n",
       "       [ 5.92585170e-01],\n",
       "       [ 5.94989980e-01],\n",
       "       [ 5.97394790e-01],\n",
       "       [ 5.99799599e-01],\n",
       "       [ 6.02204409e-01],\n",
       "       [ 6.04609218e-01],\n",
       "       [ 6.07014028e-01],\n",
       "       [ 6.09418838e-01],\n",
       "       [ 6.11823647e-01],\n",
       "       [ 6.14228457e-01],\n",
       "       [ 6.16633267e-01],\n",
       "       [ 6.19038076e-01],\n",
       "       [ 6.21442886e-01],\n",
       "       [ 6.23847695e-01],\n",
       "       [ 6.26252505e-01],\n",
       "       [ 6.28657315e-01],\n",
       "       [ 6.31062124e-01],\n",
       "       [ 6.33466934e-01],\n",
       "       [ 6.35871743e-01],\n",
       "       [ 6.38276553e-01],\n",
       "       [ 6.40681363e-01],\n",
       "       [ 6.43086172e-01],\n",
       "       [ 6.45490982e-01],\n",
       "       [ 6.47895792e-01],\n",
       "       [ 6.50300601e-01],\n",
       "       [ 6.52705411e-01],\n",
       "       [ 6.55110220e-01],\n",
       "       [ 6.57515030e-01],\n",
       "       [ 6.59919840e-01],\n",
       "       [ 6.62324649e-01],\n",
       "       [ 6.64729459e-01],\n",
       "       [ 6.67134269e-01],\n",
       "       [ 6.69539078e-01],\n",
       "       [ 6.71943888e-01],\n",
       "       [ 6.74348697e-01],\n",
       "       [ 6.76753507e-01],\n",
       "       [ 6.79158317e-01],\n",
       "       [ 6.81563126e-01],\n",
       "       [ 6.83967936e-01],\n",
       "       [ 6.86372745e-01],\n",
       "       [ 6.88777555e-01],\n",
       "       [ 6.91182365e-01],\n",
       "       [ 6.93587174e-01],\n",
       "       [ 6.95991984e-01],\n",
       "       [ 6.98396794e-01],\n",
       "       [ 7.00801603e-01],\n",
       "       [ 7.03206413e-01],\n",
       "       [ 7.05611222e-01],\n",
       "       [ 7.08016032e-01],\n",
       "       [ 7.10420842e-01],\n",
       "       [ 7.12825651e-01],\n",
       "       [ 7.15230461e-01],\n",
       "       [ 7.17635271e-01],\n",
       "       [ 7.20040080e-01],\n",
       "       [ 7.22444890e-01],\n",
       "       [ 7.24849699e-01],\n",
       "       [ 7.27254509e-01],\n",
       "       [ 7.29659319e-01],\n",
       "       [ 7.32064128e-01],\n",
       "       [ 7.34468938e-01],\n",
       "       [ 7.36873747e-01],\n",
       "       [ 7.39278557e-01],\n",
       "       [ 7.41683367e-01],\n",
       "       [ 7.44088176e-01],\n",
       "       [ 7.46492986e-01],\n",
       "       [ 7.48897796e-01],\n",
       "       [ 7.51302605e-01],\n",
       "       [ 7.53707415e-01],\n",
       "       [ 7.56112224e-01],\n",
       "       [ 7.58517034e-01],\n",
       "       [ 7.60921844e-01],\n",
       "       [ 7.63326653e-01],\n",
       "       [ 7.65731463e-01],\n",
       "       [ 7.68136273e-01],\n",
       "       [ 7.70541082e-01],\n",
       "       [ 7.72945892e-01],\n",
       "       [ 7.75350701e-01],\n",
       "       [ 7.77755511e-01],\n",
       "       [ 7.80160321e-01],\n",
       "       [ 7.82565130e-01],\n",
       "       [ 7.84969940e-01],\n",
       "       [ 7.87374749e-01],\n",
       "       [ 7.89779559e-01],\n",
       "       [ 7.92184369e-01],\n",
       "       [ 7.94589178e-01],\n",
       "       [ 7.96993988e-01],\n",
       "       [ 7.99398798e-01],\n",
       "       [ 8.01803607e-01],\n",
       "       [ 8.04208417e-01],\n",
       "       [ 8.06613226e-01],\n",
       "       [ 8.09018036e-01],\n",
       "       [ 8.11422846e-01],\n",
       "       [ 8.13827655e-01],\n",
       "       [ 8.16232465e-01],\n",
       "       [ 8.18637275e-01],\n",
       "       [ 8.21042084e-01],\n",
       "       [ 8.23446894e-01],\n",
       "       [ 8.25851703e-01],\n",
       "       [ 8.28256513e-01],\n",
       "       [ 8.30661323e-01],\n",
       "       [ 8.33066132e-01],\n",
       "       [ 8.35470942e-01],\n",
       "       [ 8.37875752e-01],\n",
       "       [ 8.40280561e-01],\n",
       "       [ 8.42685371e-01],\n",
       "       [ 8.45090180e-01],\n",
       "       [ 8.47494990e-01],\n",
       "       [ 8.49899800e-01],\n",
       "       [ 8.52304609e-01],\n",
       "       [ 8.54709419e-01],\n",
       "       [ 8.57114228e-01],\n",
       "       [ 8.59519038e-01],\n",
       "       [ 8.61923848e-01],\n",
       "       [ 8.64328657e-01],\n",
       "       [ 8.66733467e-01],\n",
       "       [ 8.69138277e-01],\n",
       "       [ 8.71543086e-01],\n",
       "       [ 8.73947896e-01],\n",
       "       [ 8.76352705e-01],\n",
       "       [ 8.78757515e-01],\n",
       "       [ 8.81162325e-01],\n",
       "       [ 8.83567134e-01],\n",
       "       [ 8.85971944e-01],\n",
       "       [ 8.88376754e-01],\n",
       "       [ 8.90781563e-01],\n",
       "       [ 8.93186373e-01],\n",
       "       [ 8.95591182e-01],\n",
       "       [ 8.97995992e-01],\n",
       "       [ 9.00400802e-01],\n",
       "       [ 9.02805611e-01],\n",
       "       [ 9.05210421e-01],\n",
       "       [ 9.07615230e-01],\n",
       "       [ 9.10020040e-01],\n",
       "       [ 9.12424850e-01],\n",
       "       [ 9.14829659e-01],\n",
       "       [ 9.17234469e-01],\n",
       "       [ 9.19639279e-01],\n",
       "       [ 9.22044088e-01],\n",
       "       [ 9.24448898e-01],\n",
       "       [ 9.26853707e-01],\n",
       "       [ 9.29258517e-01],\n",
       "       [ 9.31663327e-01],\n",
       "       [ 9.34068136e-01],\n",
       "       [ 9.36472946e-01],\n",
       "       [ 9.38877756e-01],\n",
       "       [ 9.41282565e-01],\n",
       "       [ 9.43687375e-01],\n",
       "       [ 9.46092184e-01],\n",
       "       [ 9.48496994e-01],\n",
       "       [ 9.50901804e-01],\n",
       "       [ 9.53306613e-01],\n",
       "       [ 9.55711423e-01],\n",
       "       [ 9.58116232e-01],\n",
       "       [ 9.60521042e-01],\n",
       "       [ 9.62925852e-01],\n",
       "       [ 9.65330661e-01],\n",
       "       [ 9.67735471e-01],\n",
       "       [ 9.70140281e-01],\n",
       "       [ 9.72545090e-01],\n",
       "       [ 9.74949900e-01],\n",
       "       [ 9.77354709e-01],\n",
       "       [ 9.79759519e-01],\n",
       "       [ 9.82164329e-01],\n",
       "       [ 9.84569138e-01],\n",
       "       [ 9.86973948e-01],\n",
       "       [ 9.89378758e-01],\n",
       "       [ 9.91783567e-01],\n",
       "       [ 9.94188377e-01],\n",
       "       [ 9.96593186e-01],\n",
       "       [ 9.98997996e-01],\n",
       "       [ 1.00140281e+00],\n",
       "       [ 1.00380762e+00],\n",
       "       [ 1.00621242e+00],\n",
       "       [ 1.00861723e+00],\n",
       "       [ 1.01102204e+00],\n",
       "       [ 1.01342685e+00],\n",
       "       [ 1.01583166e+00],\n",
       "       [ 1.01823647e+00],\n",
       "       [ 1.02064128e+00],\n",
       "       [ 1.02304609e+00],\n",
       "       [ 1.02545090e+00],\n",
       "       [ 1.02785571e+00],\n",
       "       [ 1.03026052e+00],\n",
       "       [ 1.03266533e+00],\n",
       "       [ 1.03507014e+00],\n",
       "       [ 1.03747495e+00],\n",
       "       [ 1.03987976e+00],\n",
       "       [ 1.04228457e+00],\n",
       "       [ 1.04468938e+00],\n",
       "       [ 1.04709419e+00],\n",
       "       [ 1.04949900e+00],\n",
       "       [ 1.05190381e+00],\n",
       "       [ 1.05430862e+00],\n",
       "       [ 1.05671343e+00],\n",
       "       [ 1.05911824e+00],\n",
       "       [ 1.06152305e+00],\n",
       "       [ 1.06392786e+00],\n",
       "       [ 1.06633267e+00],\n",
       "       [ 1.06873747e+00],\n",
       "       [ 1.07114228e+00],\n",
       "       [ 1.07354709e+00],\n",
       "       [ 1.07595190e+00],\n",
       "       [ 1.07835671e+00],\n",
       "       [ 1.08076152e+00],\n",
       "       [ 1.08316633e+00],\n",
       "       [ 1.08557114e+00],\n",
       "       [ 1.08797595e+00],\n",
       "       [ 1.09038076e+00],\n",
       "       [ 1.09278557e+00],\n",
       "       [ 1.09519038e+00],\n",
       "       [ 1.09759519e+00],\n",
       "       [ 1.10000000e+00]])"
      ]
     },
     "execution_count": 11,
     "metadata": {},
     "output_type": "execute_result"
    }
   ],
   "source": [
    "X_test = np.linspace(-0.1, 1.1, 500)[:, None]\n",
    "X_test"
   ]
  },
  {
   "cell_type": "code",
   "execution_count": 12,
   "metadata": {},
   "outputs": [
    {
     "data": {
      "image/png": "[encoded data removed]",
      "text/plain": [
       "<Figure size 432x288 with 1 Axes>"
      ]
     },
     "metadata": {},
     "output_type": "display_data"
    }
   ],
   "source": [
    "axis = plt.axis()\n",
    "plt.scatter(X,y,color='black')\n",
    "for degree in [1, 3, 5]:\n",
    "    y_test = PolynomialRegression(degree).fit(X, y).predict(X_test)\n",
    "    plt.plot(X_test, y_test, label='degree={0}'.format(degree))\n",
    "    plt.xlim(-0.1, 1.0)\n",
    "    plt.ylim(-2, 12)\n",
    "    plt.legend(loc='best');"
   ]
  },
  {
   "cell_type": "code",
   "execution_count": 13,
   "metadata": {},
   "outputs": [
    {
     "name": "stderr",
     "output_type": "stream",
     "text": [
      "e:\\Anaconda3\\lib\\site-packages\\sklearn\\learning_curve.py:22: DeprecationWarning: This module was deprecated in version 0.18 in favor of the model_selection module into which all the functions are moved. This module will be removed in 0.20\n",
      "  DeprecationWarning)\n"
     ]
    },
    {
     "data": {
      "image/png": "[encoded data removed]",
      "text/plain": [
       "<Figure size 432x288 with 1 Axes>"
      ]
     },
     "metadata": {},
     "output_type": "display_data"
    }
   ],
   "source": [
    "from sklearn.learning_curve import validation_curve\n",
    "degree = np.arange(0, 21)\n",
    "train_score, val_score = validation_curve(PolynomialRegression(), X, y,'polynomialfeatures__degree',degree, cv=7)\n",
    "plt.plot(degree, np.median(train_score, 1), color='blue', label='training score')\n",
    "plt.plot(degree, np.median(val_score, 1), color='red', label='validation score')\n",
    "plt.legend(loc='best')\n",
    "plt.ylim(0, 1)\n",
    "plt.xlabel('degree')\n",
    "plt.ylabel('score');"
   ]
  },
  {
   "cell_type": "code",
   "execution_count": 14,
   "metadata": {},
   "outputs": [
    {
     "data": {
      "image/png": "[encoded data removed]",
      "text/plain": [
       "<Figure size 432x288 with 1 Axes>"
      ]
     },
     "metadata": {},
     "output_type": "display_data"
    }
   ],
   "source": [
    "plt.scatter(X.ravel(), y)\n",
    "lim = plt.axis()\n",
    "y_test = PolynomialRegression(3).fit(X, y).predict(X_test)\n",
    "plt.plot(X_test.ravel(), y_test);\n",
    "plt.axis(lim);"
   ]
  },
  {
   "cell_type": "code",
   "execution_count": 15,
   "metadata": {},
   "outputs": [
    {
     "data": {
      "image/png": "[encoded data removed]",
      "text/plain": [
       "<Figure size 432x288 with 1 Axes>"
      ]
     },
     "metadata": {},
     "output_type": "display_data"
    }
   ],
   "source": [
    "X2, y2 = make_data(200)\n",
    "plt.scatter(X2.ravel(), y2);"
   ]
  },
  {
   "cell_type": "code",
   "execution_count": 16,
   "metadata": {},
   "outputs": [
    {
     "data": {
      "image/png": "[encoded data removed]",
      "text/plain": [
       "<Figure size 432x288 with 1 Axes>"
      ]
     },
     "metadata": {},
     "output_type": "display_data"
    }
   ],
   "source": [
    "degree = np.arange(21)\n",
    "train_score2, val_score2 = validation_curve(PolynomialRegression(), X2, y2,\n",
    "'polynomialfeatures__degree',\n",
    "degree, cv=7)\n",
    "plt.plot(degree, np.median(train_score2, 1), color='blue',\n",
    "label='training score')\n",
    "plt.plot(degree, np.median(val_score2, 1), color='red', label='validation score')\n",
    "plt.plot(degree, np.median(train_score, 1), color='blue', alpha=0.3,\n",
    "linestyle='dashed')\n",
    "plt.plot(degree, np.median(val_score, 1), color='red', alpha=0.3,\n",
    "linestyle='dashed')\n",
    "plt.legend(loc='lower center')\n",
    "plt.ylim(0, 1)\n",
    "plt.xlabel('degree')\n",
    "plt.ylabel('score');"
   ]
  },
  {
   "cell_type": "code",
   "execution_count": 21,
   "metadata": {},
   "outputs": [
    {
     "data": {
      "image/png": "[encoded data removed]",
      "text/plain": [
       "<Figure size 1152x432 with 2 Axes>"
      ]
     },
     "metadata": {},
     "output_type": "display_data"
    }
   ],
   "source": [
    "from sklearn.learning_curve import learning_curve\n",
    "fig, ax = plt.subplots(1, 2, figsize=(16, 6))\n",
    "fig.subplots_adjust(left=0.0625, right=0.95, wspace=0.1)\n",
    "for i, degree in enumerate([2, 9]):\n",
    "    N, train_lc, val_lc = learning_curve(PolynomialRegression(degree),X, y, cv=7,train_sizes=np.linspace(0.3, 1, 25))\n",
    "    ax[i].plot(N, np.mean(train_lc, 1), color='blue', label='training score')\n",
    "    ax[i].plot(N, np.mean(val_lc, 1), color='red', label='validation score')\n",
    "    ax[i].hlines(np.mean([train_lc[-1], val_lc[-1]]), N[0], N[-1], color='gray',\n",
    "    linestyle='dashed')\n",
    "    ax[i].set_ylim(0, 1)\n",
    "    ax[i].set_xlim(N[0], N[-1])\n",
    "    ax[i].set_xlabel('training size')\n",
    "    ax[i].set_ylabel('score')\n",
    "    ax[i].set_title('degree = {0}'.format(degree), size=14)\n",
    "    ax[i].legend(loc='best')"
   ]
  },
  {
   "cell_type": "markdown",
   "metadata": {},
   "source": [
    "# 网格搜索"
   ]
  },
  {
   "cell_type": "code",
   "execution_count": 23,
   "metadata": {},
   "outputs": [],
   "source": [
    "from sklearn.model_selection import GridSearchCV\n",
    "param_grid = {'polynomialfeatures__degree': np.arange(21),\n",
    "'linearregression__fit_intercept': [True, False],\n",
    "'linearregression__normalize': [True, False]}\n",
    "grid = GridSearchCV(PolynomialRegression(), param_grid, cv=7)"
   ]
  },
  {
   "cell_type": "code",
   "execution_count": 24,
   "metadata": {},
   "outputs": [],
   "source": [
    "grid.fit(X, y);"
   ]
  },
  {
   "cell_type": "code",
   "execution_count": 25,
   "metadata": {},
   "outputs": [
    {
     "data": {
      "text/plain": [
       "{'linearregression__fit_intercept': False,\n",
       " 'linearregression__normalize': True,\n",
       " 'polynomialfeatures__degree': 4}"
      ]
     },
     "execution_count": 25,
     "metadata": {},
     "output_type": "execute_result"
    }
   ],
   "source": [
    "grid.best_params_"
   ]
  },
  {
   "cell_type": "code",
   "execution_count": 27,
   "metadata": {},
   "outputs": [
    {
     "data": {
      "image/png": "[encoded data removed]",
      "text/plain": [
       "<Figure size 432x288 with 1 Axes>"
      ]
     },
     "metadata": {},
     "output_type": "display_data"
    }
   ],
   "source": [
    "model = grid.best_estimator_\n",
    "plt.scatter(X.ravel(), y)\n",
    "lim = plt.axis()\n",
    "y_test = model.fit(X, y).predict(X_test)\n",
    "plt.plot(X_test.ravel(), y_test);\n",
    "plt.axis(lim);"
   ]
  },
  {
   "cell_type": "code",
   "execution_count": null,
   "metadata": {},
   "outputs": [],
   "source": []
  }
 ],
 "metadata": {
  "kernelspec": {
   "display_name": "base",
   "language": "python",
   "name": "test"
  },
  "language_info": {
   "codemirror_mode": {
    "name": "ipython",
    "version": 3
   },
   "file_extension": ".py",
   "mimetype": "text/x-python",
   "name": "python",
   "nbconvert_exporter": "python",
   "pygments_lexer": "ipython3",
   "version": "3.6.5"
  }
 },
 "nbformat": 4,
 "nbformat_minor": 2
}
