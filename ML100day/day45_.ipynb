{
 "cells": [
  {
   "cell_type": "code",
   "execution_count": 1,
   "metadata": {},
   "outputs": [],
   "source": [
    "import numpy as np"
   ]
  },
  {
   "cell_type": "code",
   "execution_count": 6,
   "metadata": {},
   "outputs": [],
   "source": [
    "x = np.random.rand(10, 2)"
   ]
  },
  {
   "cell_type": "code",
   "execution_count": 11,
   "metadata": {},
   "outputs": [
    {
     "data": {
      "text/plain": [
       "array([[0.61003054, 0.86497983],\n",
       "       [0.78020553, 0.35495549],\n",
       "       [0.67971385, 0.07485727],\n",
       "       [0.97510183, 0.70198827],\n",
       "       [0.620524  , 0.90327925],\n",
       "       [0.57218587, 0.3322855 ],\n",
       "       [0.45352073, 0.62896383],\n",
       "       [0.47963475, 0.40403557],\n",
       "       [0.04489054, 0.93856925],\n",
       "       [0.51491236, 0.76699441]])"
      ]
     },
     "execution_count": 11,
     "metadata": {},
     "output_type": "execute_result"
    }
   ],
   "source": [
    "x"
   ]
  },
  {
   "cell_type": "code",
   "execution_count": 13,
   "metadata": {},
   "outputs": [],
   "source": [
    "a=x[:,np.newaxis,:]"
   ]
  },
  {
   "cell_type": "code",
   "execution_count": 14,
   "metadata": {},
   "outputs": [],
   "source": [
    "b=x[np.newaxis,:,:]"
   ]
  },
  {
   "cell_type": "code",
   "execution_count": 15,
   "metadata": {},
   "outputs": [
    {
     "data": {
      "text/plain": [
       "(array([[[0.61003054, 0.86497983]],\n",
       " \n",
       "        [[0.78020553, 0.35495549]],\n",
       " \n",
       "        [[0.67971385, 0.07485727]],\n",
       " \n",
       "        [[0.97510183, 0.70198827]],\n",
       " \n",
       "        [[0.620524  , 0.90327925]],\n",
       " \n",
       "        [[0.57218587, 0.3322855 ]],\n",
       " \n",
       "        [[0.45352073, 0.62896383]],\n",
       " \n",
       "        [[0.47963475, 0.40403557]],\n",
       " \n",
       "        [[0.04489054, 0.93856925]],\n",
       " \n",
       "        [[0.51491236, 0.76699441]]]), array([[[0.61003054, 0.86497983],\n",
       "         [0.78020553, 0.35495549],\n",
       "         [0.67971385, 0.07485727],\n",
       "         [0.97510183, 0.70198827],\n",
       "         [0.620524  , 0.90327925],\n",
       "         [0.57218587, 0.3322855 ],\n",
       "         [0.45352073, 0.62896383],\n",
       "         [0.47963475, 0.40403557],\n",
       "         [0.04489054, 0.93856925],\n",
       "         [0.51491236, 0.76699441]]]))"
      ]
     },
     "execution_count": 15,
     "metadata": {},
     "output_type": "execute_result"
    }
   ],
   "source": [
    "a,b"
   ]
  },
  {
   "cell_type": "code",
   "execution_count": 17,
   "metadata": {},
   "outputs": [],
   "source": [
    "c=(a-b)**2"
   ]
  },
  {
   "cell_type": "code",
   "execution_count": 19,
   "metadata": {},
   "outputs": [],
   "source": [
    "rsum=np.sum(c,axis=2)"
   ]
  },
  {
   "cell_type": "code",
   "execution_count": 21,
   "metadata": {},
   "outputs": [
    {
     "data": {
      "text/plain": [
       "(10, 10)"
      ]
     },
     "execution_count": 21,
     "metadata": {},
     "output_type": "execute_result"
    }
   ],
   "source": [
    "rsum.shape"
   ]
  },
  {
   "cell_type": "code",
   "execution_count": 22,
   "metadata": {},
   "outputs": [
    {
     "data": {
      "text/plain": [
       "array([0., 0., 0., 0., 0., 0., 0., 0., 0., 0.])"
      ]
     },
     "execution_count": 22,
     "metadata": {},
     "output_type": "execute_result"
    }
   ],
   "source": [
    "rsum.diagonal()"
   ]
  },
  {
   "cell_type": "code",
   "execution_count": 23,
   "metadata": {},
   "outputs": [
    {
     "data": {
      "text/plain": [
       "array([[0, 4, 9, 6, 3, 7, 5, 1, 8, 2],\n",
       "       [1, 5, 2, 7, 3, 6, 9, 0, 4, 8],\n",
       "       [2, 5, 1, 7, 6, 3, 9, 0, 4, 8],\n",
       "       [3, 1, 0, 4, 9, 6, 5, 7, 2, 8],\n",
       "       [4, 0, 9, 6, 3, 7, 1, 5, 8, 2],\n",
       "       [5, 7, 1, 2, 6, 9, 0, 3, 4, 8],\n",
       "       [6, 9, 7, 0, 5, 4, 1, 8, 3, 2],\n",
       "       [7, 5, 6, 1, 9, 2, 0, 4, 3, 8],\n",
       "       [8, 9, 6, 0, 4, 7, 5, 1, 3, 2],\n",
       "       [9, 0, 6, 4, 7, 5, 3, 1, 8, 2]], dtype=int64)"
      ]
     },
     "execution_count": 23,
     "metadata": {},
     "output_type": "execute_result"
    }
   ],
   "source": [
    "rsum.argsort(axis=1)"
   ]
  },
  {
   "cell_type": "code",
   "execution_count": null,
   "metadata": {},
   "outputs": [],
   "source": []
  }
 ],
 "metadata": {
  "kernelspec": {
   "display_name": "base",
   "language": "python",
   "name": "test"
  },
  "language_info": {
   "codemirror_mode": {
    "name": "ipython",
    "version": 3
   },
   "file_extension": ".py",
   "mimetype": "text/x-python",
   "name": "python",
   "nbconvert_exporter": "python",
   "pygments_lexer": "ipython3",
   "version": "3.6.5"
  }
 },
 "nbformat": 4,
 "nbformat_minor": 2
}
