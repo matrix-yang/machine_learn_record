{
 "cells": [
  {
   "cell_type": "code",
   "execution_count": 1,
   "metadata": {},
   "outputs": [],
   "source": [
    "from tensorflow.keras import Sequential\n",
    "from tensorflow.keras.layers import Dense, Activation, Conv2D, MaxPooling2D, Flatten, Dropout\n",
    "from tensorflow.keras.optimizers import Adam\n",
    "import numpy as np\n",
    "import os \n",
    "from PIL import Image\n",
    "import sklearn as sk\n",
    "import tensorflow as tf"
   ]
  },
  {
   "cell_type": "code",
   "execution_count": 2,
   "metadata": {},
   "outputs": [],
   "source": [
    "def get_jpg_path(file_dir='datasets\\\\birds\\\\train\\\\'):\n",
    "    path=[]\n",
    "    clazz=[]\n",
    "    for root, dirs, files in os.walk(file_dir): \n",
    "        if len(dirs)==0:\n",
    "            cls=root[-3:]\n",
    "            cls=[int(cls)]*len(files)\n",
    "            ph=[root+\"\\\\\"+p for p in files]\n",
    "            path.extend(ph)\n",
    "            clazz.extend(cls)\n",
    "    return path,clazz\n",
    "path,clazz=get_jpg_path('datasets\\\\birds\\\\train\\\\')"
   ]
  },
  {
   "cell_type": "code",
   "execution_count": 3,
   "metadata": {},
   "outputs": [],
   "source": [
    "def enforce(img,corp=(224,224)):\n",
    "    rs=np.zeros((5,224,224,3))\n",
    "    box = [(0, 0, 224, 224),\n",
    "          (76, 0, 300, 224),\n",
    "          (76, 76, 300, 300),\n",
    "          (0, 76, 224, 300),\n",
    "          (38, 38, 262, 262)]\n",
    "    idx=0\n",
    "    for b in box:\n",
    "        region = img.crop(b)\n",
    "        npre=np.asarray(region)\n",
    "        rs[idx]=npre\n",
    "        idx+=1\n",
    "    return rs"
   ]
  },
  {
   "cell_type": "code",
   "execution_count": 4,
   "metadata": {},
   "outputs": [],
   "source": [
    "def onehot_label(clazz):\n",
    "    index=0\n",
    "    is_insight=set()\n",
    "    hot=[0]*90\n",
    "    onehot=[]\n",
    "    for i in clazz:\n",
    "        if i not in is_insight:\n",
    "            is_insight.add(i)\n",
    "            hot=[0]*90\n",
    "            hot[index]=1\n",
    "            index+=1\n",
    "        onehot.append(hot)\n",
    "        onehot.append(hot)\n",
    "        onehot.append(hot)\n",
    "        onehot.append(hot)\n",
    "        onehot.append(hot)\n",
    "    onehot=np.asarray(onehot)\n",
    "    return onehot"
   ]
  },
  {
   "cell_type": "code",
   "execution_count": 5,
   "metadata": {},
   "outputs": [],
   "source": [
    "def del_bad_imgs(path):\n",
    "    index=0\n",
    "    for p in path:\n",
    "        im=Image.open(p)\n",
    "        npim=np.asarray(im)\n",
    "        if len(npim.shape)==2:\n",
    "            os.remove(p)\n",
    "            print(index,npim.shape,\"has been removed\")\n",
    "        index+=1\n",
    "del_bad_imgs(path)"
   ]
  },
  {
   "cell_type": "code",
   "execution_count": 6,
   "metadata": {},
   "outputs": [],
   "source": [
    "def reszie_jpg(path,shape=(3830,300,300,3)):\n",
    "    imgs=[]\n",
    "    index=0\n",
    "    for p in path:\n",
    "        im=Image.open(p)\n",
    "        im=im.resize(shape[1:3])\n",
    "        ims=enforce(im)\n",
    "        for i in ims:\n",
    "            imgs.append(i)\n",
    "    return np.asarray(imgs,dtype=\"float\")"
   ]
  },
  {
   "cell_type": "code",
   "execution_count": 7,
   "metadata": {},
   "outputs": [
    {
     "data": {
      "text/plain": [
       "(19120, 224, 224, 3)"
      ]
     },
     "execution_count": 7,
     "metadata": {},
     "output_type": "execute_result"
    }
   ],
   "source": [
    "imgs=reszie_jpg(path)\n",
    "imgs.shape"
   ]
  },
  {
   "cell_type": "code",
   "execution_count": 8,
   "metadata": {},
   "outputs": [
    {
     "data": {
      "text/plain": [
       "(19120, 90)"
      ]
     },
     "execution_count": 8,
     "metadata": {},
     "output_type": "execute_result"
    }
   ],
   "source": [
    "onehot=onehot_label(clazz)\n",
    "onehot.shape"
   ]
  },
  {
   "cell_type": "code",
   "execution_count": 9,
   "metadata": {},
   "outputs": [
    {
     "data": {
      "text/plain": [
       "array([[[146., 139.,  84.],\n",
       "        [148., 141.,  86.],\n",
       "        [153., 146.,  92.],\n",
       "        ...,\n",
       "        [184., 192., 195.],\n",
       "        [184., 192., 195.],\n",
       "        [184., 192., 195.]],\n",
       "\n",
       "       [[146., 138.,  89.],\n",
       "        [147., 139.,  90.],\n",
       "        [152., 144.,  97.],\n",
       "        ...,\n",
       "        [187., 195., 198.],\n",
       "        [187., 195., 198.],\n",
       "        [186., 194., 197.]],\n",
       "\n",
       "       [[145., 137.,  88.],\n",
       "        [146., 138.,  91.],\n",
       "        [151., 143.,  96.],\n",
       "        ...,\n",
       "        [189., 197., 200.],\n",
       "        [187., 195., 198.],\n",
       "        [186., 194., 197.]],\n",
       "\n",
       "       ...,\n",
       "\n",
       "       [[177., 174., 183.],\n",
       "        [193., 193., 201.],\n",
       "        [196., 203., 211.],\n",
       "        ...,\n",
       "        [196., 199., 214.],\n",
       "        [203., 206., 221.],\n",
       "        [202., 206., 218.]],\n",
       "\n",
       "       [[203., 200., 211.],\n",
       "        [193., 193., 203.],\n",
       "        [204., 211., 221.],\n",
       "        ...,\n",
       "        [210., 213., 232.],\n",
       "        [204., 207., 224.],\n",
       "        [207., 210., 227.]],\n",
       "\n",
       "       [[170., 178., 180.],\n",
       "        [211., 219., 221.],\n",
       "        [215., 223., 226.],\n",
       "        ...,\n",
       "        [218., 228., 237.],\n",
       "        [206., 210., 213.],\n",
       "        [201., 201., 203.]]], dtype=float32)"
      ]
     },
     "execution_count": 9,
     "metadata": {},
     "output_type": "execute_result"
    }
   ],
   "source": [
    "imgs12 = imgs[339].astype(np.float32)\n",
    "imgs12"
   ]
  },
  {
   "cell_type": "code",
   "execution_count": 20,
   "metadata": {},
   "outputs": [],
   "source": [
    "min_size_x=imgs[:339]\n",
    "min_size_y=onehot[:339,:2]\n",
    "min_size_y_=[]\n",
    "for i in min_size_y:\n",
    "    if i[0]==0:\n",
    "        min_size_y_.append(-1)\n",
    "    else:\n",
    "        min_size_y_.append(1)"
   ]
  },
  {
   "cell_type": "code",
   "execution_count": 21,
   "metadata": {},
   "outputs": [
    {
     "data": {
      "image/png": "[encoded data removed]",
      "text/plain": [
       "<Figure size 432x288 with 1 Axes>"
      ]
     },
     "metadata": {
      "needs_background": "light"
     },
     "output_type": "display_data"
    }
   ],
   "source": [
    "import matplotlib.pyplot as plt\n",
    "plt.imshow(imgs[339]/255)\n",
    "plt.show()"
   ]
  },
  {
   "cell_type": "code",
   "execution_count": 22,
   "metadata": {},
   "outputs": [],
   "source": [
    "from sklearn.model_selection import train_test_split\n",
    "# from sklearn.preprocessing import StandardScaler\n",
    "# minMax = StandardScaler()\n",
    "# imgs = minMax.fit_transform(imgs)\n",
    "# imgs[1]\n",
    "min_size_x=min_size_x/255\n",
    "xtr,xte,ytr,yte=train_test_split(min_size_x,min_size_y_,test_size=0.2,random_state=1)"
   ]
  },
  {
   "cell_type": "code",
   "execution_count": 23,
   "metadata": {},
   "outputs": [
    {
     "name": "stdout",
     "output_type": "stream",
     "text": [
      "Object `minMax.fit_transform` not found.\n"
     ]
    }
   ],
   "source": [
    " minMax.fit_transform?"
   ]
  },
  {
   "cell_type": "code",
   "execution_count": 49,
   "metadata": {},
   "outputs": [],
   "source": [
    "model = Sequential()\n",
    "# BLOCK 1\n",
    "model.add(Conv2D(filters = 64, kernel_size = (9, 9), activation = 'relu', padding = 'same', name = 'block1_conv1', input_shape = (224, 224, 3)))   \n",
    "model.add(MaxPooling2D(pool_size = (4, 4), strides = (4, 4), name = 'block2_pool1'))\n",
    "model.add(Conv2D(filters = 128, kernel_size = (9, 9), activation = 'relu', padding = 'same', name = 'block1_conv2'))\n",
    "model.add(MaxPooling2D(pool_size = (4, 4), strides = (4, 4), name = 'block1_pool2'))\n",
    " \n",
    "# BLOCK2\n",
    "model.add(Conv2D(filters = 256, kernel_size = (9, 9), activation = 'relu', padding = 'same', name = 'block2_conv1'))\n",
    "model.add(MaxPooling2D(pool_size = (4, 4), strides = (4, 4), name = 'block2_pool3'))\n",
    "model.add(Conv2D(filters = 512, kernel_size = (9, 9), activation = 'tanh', padding = 'same', name = 'block2_conv2'))\n",
    "model.add(MaxPooling2D(pool_size = (2, 2), strides = (2,2), name = 'block2_pool4'))\n",
    " \n",
    "# BLOCK3\n",
    "# model.add(Conv2D(filters = 256, kernel_size = (3, 3), activation = 'relu', padding = 'same', name = 'block3_conv1'))   \n",
    "# # model.add(Conv2D(filters = 256, kernel_size = (3, 3), activation = 'relu', padding = 'same', name = 'block3_conv2'))\n",
    "# model.add(Conv2D(filters = 512, kernel_size = (3, 3), activation = 'relu', padding = 'same', name = 'block3_conv3'))\n",
    "# model.add(MaxPooling2D(pool_size = (4, 4), strides = (4, 4), name = 'block3_pool'))\n",
    " \n",
    "# # BLOCK4\n",
    "# model.add(Conv2D(filters = 512, kernel_size = (3, 3), activation = 'relu', padding = 'same', name = 'block4_conv1'))   \n",
    "# model.add(Conv2D(filters = 512, kernel_size = (3, 3), activation = 'relu', padding = 'same', name = 'block4_conv2'))\n",
    "# model.add(Conv2D(filters = 512, kernel_size = (3, 3), activation = 'relu', padding = 'same', name = 'block4_conv3'))\n",
    "# model.add(MaxPooling2D(pool_size = (2, 2), strides = (2, 2), name = 'block4_pool'))\n",
    " \n",
    "# # BLOCK5\n",
    "# model.add(Conv2D(filters = 512, kernel_size = (3, 3), activation = 'relu', padding = 'same', name = 'block5_conv1'))   \n",
    "# model.add(Conv2D(filters = 512, kernel_size = (3, 3), activation = 'relu', padding = 'same', name = 'block5_conv2'))\n",
    "# model.add(Conv2D(filters = 512, kernel_size = (3, 3), activation = 'relu', padding = 'same', name = 'block5_conv3'))\n",
    "# model.add(MaxPooling2D(pool_size = (2, 2), strides = (2, 2), name = 'block5_pool'))\n",
    "\n",
    "model.add(Flatten())\n",
    "model.add(Dense(1024, activation = 'relu', name = 'fc1'))\n",
    "# model.add(Dropout(rate=0.2))\n",
    "model.add(Dense(1024, activation = 'relu', name = 'fc2'))\n",
    "model.add(Dropout(rate=0.2))\n",
    "model.add(Dense(1,  name = 'prediction'))"
   ]
  },
  {
   "cell_type": "code",
   "execution_count": 50,
   "metadata": {},
   "outputs": [
    {
     "name": "stdout",
     "output_type": "stream",
     "text": [
      "_________________________________________________________________\n",
      "Layer (type)                 Output Shape              Param #   \n",
      "=================================================================\n",
      "block1_conv1 (Conv2D)        (None, 224, 224, 64)      15616     \n",
      "_________________________________________________________________\n",
      "block2_pool1 (MaxPooling2D)  (None, 56, 56, 64)        0         \n",
      "_________________________________________________________________\n",
      "block1_conv2 (Conv2D)        (None, 56, 56, 128)       663680    \n",
      "_________________________________________________________________\n",
      "block1_pool2 (MaxPooling2D)  (None, 14, 14, 128)       0         \n",
      "_________________________________________________________________\n",
      "block2_conv1 (Conv2D)        (None, 14, 14, 256)       2654464   \n",
      "_________________________________________________________________\n",
      "block2_pool3 (MaxPooling2D)  (None, 3, 3, 256)         0         \n",
      "_________________________________________________________________\n",
      "block2_conv2 (Conv2D)        (None, 3, 3, 512)         10617344  \n",
      "_________________________________________________________________\n",
      "block2_pool4 (MaxPooling2D)  (None, 1, 1, 512)         0         \n",
      "_________________________________________________________________\n",
      "flatten_4 (Flatten)          (None, 512)               0         \n",
      "_________________________________________________________________\n",
      "fc1 (Dense)                  (None, 1024)              525312    \n",
      "_________________________________________________________________\n",
      "fc2 (Dense)                  (None, 1024)              1049600   \n",
      "_________________________________________________________________\n",
      "dropout_4 (Dropout)          (None, 1024)              0         \n",
      "_________________________________________________________________\n",
      "prediction (Dense)           (None, 1)                 1025      \n",
      "=================================================================\n",
      "Total params: 15,527,041\n",
      "Trainable params: 15,527,041\n",
      "Non-trainable params: 0\n",
      "_________________________________________________________________\n"
     ]
    }
   ],
   "source": [
    "model.summary()"
   ]
  },
  {
   "cell_type": "code",
   "execution_count": 51,
   "metadata": {},
   "outputs": [],
   "source": [
    "model.compile(optimizer=Adam(0.00001),\n",
    "              #loss='mse',\n",
    "              loss='hinge',\n",
    "              #loss='categorical_crossentropy',\n",
    "              #loss='binary_crossentropy',\n",
    "              metrics=[tf.keras.metrics.BinaryAccuracy(name='bacc', dtype=None,threshold=0.0)]\n",
    "             )"
   ]
  },
  {
   "cell_type": "code",
   "execution_count": 52,
   "metadata": {
    "scrolled": false
   },
   "outputs": [
    {
     "name": "stdout",
     "output_type": "stream",
     "text": [
      "Train on 271 samples, validate on 68 samples\n",
      "Epoch 1/100\n",
      "271/271 [==============================] - 2s 6ms/sample - loss: 0.9991 - bacc: 0.0037 - val_loss: 0.9936 - val_bacc: 0.0000e+00\n",
      "Epoch 2/100\n",
      "271/271 [==============================] - 1s 5ms/sample - loss: 0.9947 - bacc: 0.0000e+00 - val_loss: 0.9884 - val_bacc: 0.0000e+00\n",
      "Epoch 3/100\n",
      "271/271 [==============================] - 1s 5ms/sample - loss: 0.9907 - bacc: 0.1697 - val_loss: 0.9847 - val_bacc: 0.2500\n",
      "Epoch 4/100\n",
      "271/271 [==============================] - 1s 5ms/sample - loss: 0.9812 - bacc: 0.0923 - val_loss: 0.9724 - val_bacc: 0.0441\n",
      "Epoch 5/100\n",
      "271/271 [==============================] - 1s 5ms/sample - loss: 0.9724 - bacc: 0.1661 - val_loss: 0.9602 - val_bacc: 0.2941\n",
      "Epoch 6/100\n",
      "271/271 [==============================] - 1s 5ms/sample - loss: 0.9583 - bacc: 0.1033 - val_loss: 0.9304 - val_bacc: 0.0588\n",
      "Epoch 7/100\n",
      "271/271 [==============================] - 1s 5ms/sample - loss: 0.9291 - bacc: 0.3911 - val_loss: 0.9116 - val_bacc: 0.4412\n",
      "Epoch 8/100\n",
      "271/271 [==============================] - 1s 5ms/sample - loss: 0.8899 - bacc: 0.2288 - val_loss: 0.8421 - val_bacc: 0.1765\n",
      "Epoch 9/100\n",
      "271/271 [==============================] - 1s 5ms/sample - loss: 0.8174 - bacc: 0.3542 - val_loss: 0.7597 - val_bacc: 0.3971\n",
      "Epoch 10/100\n",
      "271/271 [==============================] - 1s 5ms/sample - loss: 0.7214 - bacc: 0.3985 - val_loss: 0.6777 - val_bacc: 0.4412\n",
      "Epoch 11/100\n",
      "271/271 [==============================] - 1s 5ms/sample - loss: 0.6506 - bacc: 0.4465 - val_loss: 0.6194 - val_bacc: 0.4265\n",
      "Epoch 12/100\n",
      "271/271 [==============================] - 1s 5ms/sample - loss: 0.6231 - bacc: 0.4797 - val_loss: 0.5977 - val_bacc: 0.3971\n",
      "Epoch 13/100\n",
      "271/271 [==============================] - 1s 5ms/sample - loss: 0.6534 - bacc: 0.3875 - val_loss: 0.5900 - val_bacc: 0.4412\n",
      "Epoch 14/100\n",
      "271/271 [==============================] - 1s 5ms/sample - loss: 0.5555 - bacc: 0.4871 - val_loss: 0.6791 - val_bacc: 0.2353\n",
      "Epoch 15/100\n",
      "271/271 [==============================] - 1s 5ms/sample - loss: 0.6241 - bacc: 0.3690 - val_loss: 0.6451 - val_bacc: 0.4412\n",
      "Epoch 16/100\n",
      "271/271 [==============================] - 1s 5ms/sample - loss: 0.5897 - bacc: 0.4576 - val_loss: 0.5783 - val_bacc: 0.3824\n",
      "Epoch 17/100\n",
      "271/271 [==============================] - 1s 5ms/sample - loss: 0.5299 - bacc: 0.4723 - val_loss: 0.5628 - val_bacc: 0.4265\n",
      "Epoch 18/100\n",
      "271/271 [==============================] - 1s 5ms/sample - loss: 0.5075 - bacc: 0.4723 - val_loss: 0.5550 - val_bacc: 0.3088\n",
      "Epoch 19/100\n",
      "271/271 [==============================] - 1s 5ms/sample - loss: 0.5074 - bacc: 0.4649 - val_loss: 0.5371 - val_bacc: 0.3971\n",
      "Epoch 20/100\n",
      "271/271 [==============================] - 1s 5ms/sample - loss: 0.4912 - bacc: 0.4317 - val_loss: 0.5621 - val_bacc: 0.4412\n",
      "Epoch 21/100\n",
      "271/271 [==============================] - 1s 5ms/sample - loss: 0.4904 - bacc: 0.4649 - val_loss: 0.5383 - val_bacc: 0.2794\n",
      "Epoch 22/100\n",
      "271/271 [==============================] - 1s 5ms/sample - loss: 0.5653 - bacc: 0.4686 - val_loss: 0.5375 - val_bacc: 0.2941\n",
      "Epoch 23/100\n",
      "271/271 [==============================] - 1s 5ms/sample - loss: 0.4929 - bacc: 0.4280 - val_loss: 0.5946 - val_bacc: 0.4559\n",
      "Epoch 24/100\n",
      "271/271 [==============================] - 1s 5ms/sample - loss: 0.5241 - bacc: 0.4686 - val_loss: 0.5852 - val_bacc: 0.2647\n",
      "Epoch 25/100\n",
      "271/271 [==============================] - 1s 5ms/sample - loss: 0.4973 - bacc: 0.4465 - val_loss: 0.5035 - val_bacc: 0.3971\n",
      "Epoch 26/100\n",
      "271/271 [==============================] - 1s 5ms/sample - loss: 0.4576 - bacc: 0.4428 - val_loss: 0.4955 - val_bacc: 0.3971\n",
      "Epoch 27/100\n",
      "271/271 [==============================] - 1s 5ms/sample - loss: 0.4299 - bacc: 0.4649 - val_loss: 0.4864 - val_bacc: 0.3971\n",
      "Epoch 28/100\n",
      "271/271 [==============================] - 1s 5ms/sample - loss: 0.4028 - bacc: 0.4723 - val_loss: 0.4707 - val_bacc: 0.3382\n",
      "Epoch 29/100\n",
      "271/271 [==============================] - 1s 5ms/sample - loss: 0.3928 - bacc: 0.4539 - val_loss: 0.4598 - val_bacc: 0.3676\n",
      "Epoch 30/100\n",
      "271/271 [==============================] - 1s 5ms/sample - loss: 0.3789 - bacc: 0.4576 - val_loss: 0.4482 - val_bacc: 0.3676\n",
      "Epoch 31/100\n",
      "271/271 [==============================] - 1s 5ms/sample - loss: 0.3657 - bacc: 0.4649 - val_loss: 0.4384 - val_bacc: 0.3824\n",
      "Epoch 32/100\n",
      "271/271 [==============================] - 1s 5ms/sample - loss: 0.3449 - bacc: 0.4539 - val_loss: 0.4302 - val_bacc: 0.3529\n",
      "Epoch 33/100\n",
      "271/271 [==============================] - 1s 5ms/sample - loss: 0.3610 - bacc: 0.4576 - val_loss: 0.4199 - val_bacc: 0.3676\n",
      "Epoch 34/100\n",
      "271/271 [==============================] - 1s 5ms/sample - loss: 0.3705 - bacc: 0.4539 - val_loss: 0.4136 - val_bacc: 0.3676\n",
      "Epoch 35/100\n",
      "271/271 [==============================] - 1s 5ms/sample - loss: 0.3649 - bacc: 0.4613 - val_loss: 0.4708 - val_bacc: 0.2941\n",
      "Epoch 36/100\n",
      "271/271 [==============================] - 1s 5ms/sample - loss: 0.3532 - bacc: 0.4686 - val_loss: 0.4136 - val_bacc: 0.3088\n",
      "Epoch 37/100\n",
      "271/271 [==============================] - 1s 5ms/sample - loss: 0.3094 - bacc: 0.4760 - val_loss: 0.3945 - val_bacc: 0.3676\n",
      "Epoch 38/100\n",
      "271/271 [==============================] - 1s 5ms/sample - loss: 0.2933 - bacc: 0.4723 - val_loss: 0.3910 - val_bacc: 0.3529\n",
      "Epoch 39/100\n",
      "271/271 [==============================] - 1s 5ms/sample - loss: 0.2883 - bacc: 0.4649 - val_loss: 0.4171 - val_bacc: 0.3088\n",
      "Epoch 40/100\n",
      "271/271 [==============================] - 1s 5ms/sample - loss: 0.2829 - bacc: 0.4649 - val_loss: 0.4277 - val_bacc: 0.3088\n",
      "Epoch 41/100\n",
      "271/271 [==============================] - 1s 5ms/sample - loss: 0.2671 - bacc: 0.4797 - val_loss: 0.4245 - val_bacc: 0.2941\n",
      "Epoch 42/100\n",
      "271/271 [==============================] - 1s 5ms/sample - loss: 0.2699 - bacc: 0.4649 - val_loss: 0.3846 - val_bacc: 0.3382\n",
      "Epoch 43/100\n",
      "271/271 [==============================] - 1s 5ms/sample - loss: 0.2503 - bacc: 0.4760 - val_loss: 0.3723 - val_bacc: 0.3824\n",
      "Epoch 44/100\n",
      "271/271 [==============================] - 1s 5ms/sample - loss: 0.2573 - bacc: 0.4686 - val_loss: 0.3964 - val_bacc: 0.3382\n",
      "Epoch 45/100\n",
      "271/271 [==============================] - 1s 5ms/sample - loss: 0.2339 - bacc: 0.4871 - val_loss: 0.3956 - val_bacc: 0.3529\n",
      "Epoch 46/100\n",
      "271/271 [==============================] - 1s 5ms/sample - loss: 0.1931 - bacc: 0.4871 - val_loss: 0.3692 - val_bacc: 0.4412\n",
      "Epoch 47/100\n",
      "271/271 [==============================] - 1s 5ms/sample - loss: 0.2002 - bacc: 0.4834 - val_loss: 0.3699 - val_bacc: 0.4559\n",
      "Epoch 48/100\n",
      "271/271 [==============================] - 1s 5ms/sample - loss: 0.1993 - bacc: 0.4723 - val_loss: 0.3361 - val_bacc: 0.4265\n",
      "Epoch 49/100\n",
      "271/271 [==============================] - 1s 5ms/sample - loss: 0.1710 - bacc: 0.4871 - val_loss: 0.3347 - val_bacc: 0.4412\n",
      "Epoch 50/100\n",
      "271/271 [==============================] - 1s 5ms/sample - loss: 0.2023 - bacc: 0.4686 - val_loss: 0.4183 - val_bacc: 0.4559\n",
      "Epoch 51/100\n",
      "271/271 [==============================] - 1s 5ms/sample - loss: 0.2889 - bacc: 0.4723 - val_loss: 0.3428 - val_bacc: 0.4265\n",
      "Epoch 52/100\n",
      "271/271 [==============================] - 1s 5ms/sample - loss: 0.2340 - bacc: 0.4871 - val_loss: 0.3485 - val_bacc: 0.3676\n",
      "Epoch 53/100\n",
      "271/271 [==============================] - 1s 5ms/sample - loss: 0.1621 - bacc: 0.4871 - val_loss: 0.3153 - val_bacc: 0.4265\n",
      "Epoch 54/100\n",
      "271/271 [==============================] - 1s 5ms/sample - loss: 0.1712 - bacc: 0.4797 - val_loss: 0.3310 - val_bacc: 0.4118\n",
      "Epoch 55/100\n",
      "271/271 [==============================] - 1s 5ms/sample - loss: 0.1655 - bacc: 0.4871 - val_loss: 0.3430 - val_bacc: 0.3971\n",
      "Epoch 56/100\n",
      "271/271 [==============================] - 1s 5ms/sample - loss: 0.1916 - bacc: 0.4797 - val_loss: 0.3303 - val_bacc: 0.4265\n",
      "Epoch 57/100\n",
      "271/271 [==============================] - 1s 5ms/sample - loss: 0.2575 - bacc: 0.4797 - val_loss: 0.3568 - val_bacc: 0.3676\n",
      "Epoch 58/100\n",
      "271/271 [==============================] - 1s 5ms/sample - loss: 0.1787 - bacc: 0.4797 - val_loss: 0.3795 - val_bacc: 0.3529\n",
      "Epoch 59/100\n",
      "271/271 [==============================] - 1s 5ms/sample - loss: 0.1461 - bacc: 0.4908 - val_loss: 0.3408 - val_bacc: 0.3971\n",
      "Epoch 60/100\n"
     ]
    },
    {
     "name": "stdout",
     "output_type": "stream",
     "text": [
      "271/271 [==============================] - 1s 5ms/sample - loss: 0.1380 - bacc: 0.4871 - val_loss: 0.3273 - val_bacc: 0.4118\n",
      "Epoch 61/100\n",
      "271/271 [==============================] - 1s 5ms/sample - loss: 0.1219 - bacc: 0.4871 - val_loss: 0.3421 - val_bacc: 0.4559\n",
      "Epoch 62/100\n",
      "271/271 [==============================] - 1s 5ms/sample - loss: 0.1203 - bacc: 0.4908 - val_loss: 0.3363 - val_bacc: 0.4412\n",
      "Epoch 63/100\n",
      "271/271 [==============================] - 1s 5ms/sample - loss: 0.1163 - bacc: 0.4908 - val_loss: 0.3288 - val_bacc: 0.4265\n",
      "Epoch 64/100\n",
      "271/271 [==============================] - 1s 5ms/sample - loss: 0.1245 - bacc: 0.4871 - val_loss: 0.3237 - val_bacc: 0.3971\n",
      "Epoch 65/100\n",
      "271/271 [==============================] - 1s 5ms/sample - loss: 0.1123 - bacc: 0.4871 - val_loss: 0.3323 - val_bacc: 0.3824\n",
      "Epoch 66/100\n",
      "271/271 [==============================] - 1s 5ms/sample - loss: 0.0996 - bacc: 0.4945 - val_loss: 0.3036 - val_bacc: 0.4265\n",
      "Epoch 67/100\n",
      "271/271 [==============================] - 1s 5ms/sample - loss: 0.0975 - bacc: 0.4908 - val_loss: 0.3174 - val_bacc: 0.3971\n",
      "Epoch 68/100\n",
      "271/271 [==============================] - 1s 5ms/sample - loss: 0.0885 - bacc: 0.4908 - val_loss: 0.3266 - val_bacc: 0.4412\n",
      "Epoch 69/100\n",
      "271/271 [==============================] - 1s 5ms/sample - loss: 0.1008 - bacc: 0.4945 - val_loss: 0.3599 - val_bacc: 0.4559\n",
      "Epoch 70/100\n",
      "271/271 [==============================] - 1s 5ms/sample - loss: 0.1074 - bacc: 0.4982 - val_loss: 0.3646 - val_bacc: 0.3824\n",
      "Epoch 71/100\n",
      "271/271 [==============================] - 1s 5ms/sample - loss: 0.1121 - bacc: 0.4908 - val_loss: 0.3850 - val_bacc: 0.3824\n",
      "Epoch 72/100\n",
      "271/271 [==============================] - 1s 5ms/sample - loss: 0.1031 - bacc: 0.4908 - val_loss: 0.4201 - val_bacc: 0.3529\n",
      "Epoch 73/100\n",
      "271/271 [==============================] - 1s 5ms/sample - loss: 0.1070 - bacc: 0.4908 - val_loss: 0.3721 - val_bacc: 0.3824\n",
      "Epoch 74/100\n",
      "271/271 [==============================] - 1s 5ms/sample - loss: 0.1349 - bacc: 0.4945 - val_loss: 0.3999 - val_bacc: 0.3824\n",
      "Epoch 75/100\n",
      "271/271 [==============================] - 1s 5ms/sample - loss: 0.1110 - bacc: 0.4982 - val_loss: 0.3955 - val_bacc: 0.3824\n",
      "Epoch 76/100\n",
      "271/271 [==============================] - 1s 5ms/sample - loss: 0.0818 - bacc: 0.4908 - val_loss: 0.3229 - val_bacc: 0.3971\n",
      "Epoch 77/100\n",
      "271/271 [==============================] - 1s 5ms/sample - loss: 0.0716 - bacc: 0.4945 - val_loss: 0.3140 - val_bacc: 0.4412\n",
      "Epoch 78/100\n",
      "271/271 [==============================] - 1s 5ms/sample - loss: 0.0641 - bacc: 0.4982 - val_loss: 0.3437 - val_bacc: 0.4412\n",
      "Epoch 79/100\n",
      "271/271 [==============================] - 1s 5ms/sample - loss: 0.0638 - bacc: 0.4982 - val_loss: 0.3201 - val_bacc: 0.4412\n",
      "Epoch 80/100\n",
      "271/271 [==============================] - 1s 5ms/sample - loss: 0.0644 - bacc: 0.4982 - val_loss: 0.3251 - val_bacc: 0.3971\n",
      "Epoch 81/100\n",
      "271/271 [==============================] - 1s 5ms/sample - loss: 0.0665 - bacc: 0.4945 - val_loss: 0.3567 - val_bacc: 0.3971\n",
      "Epoch 82/100\n",
      "271/271 [==============================] - 1s 5ms/sample - loss: 0.0775 - bacc: 0.4982 - val_loss: 0.3139 - val_bacc: 0.3971\n",
      "Epoch 83/100\n",
      "271/271 [==============================] - 1s 5ms/sample - loss: 0.0537 - bacc: 0.5018 - val_loss: 0.3203 - val_bacc: 0.3971\n",
      "Epoch 84/100\n",
      "271/271 [==============================] - 1s 5ms/sample - loss: 0.0680 - bacc: 0.5055 - val_loss: 0.3087 - val_bacc: 0.4118\n",
      "Epoch 85/100\n",
      "271/271 [==============================] - 1s 5ms/sample - loss: 0.0482 - bacc: 0.5055 - val_loss: 0.2979 - val_bacc: 0.3971\n",
      "Epoch 86/100\n",
      "271/271 [==============================] - 1s 5ms/sample - loss: 0.0554 - bacc: 0.5018 - val_loss: 0.2976 - val_bacc: 0.3971\n",
      "Epoch 87/100\n",
      "271/271 [==============================] - 1s 5ms/sample - loss: 0.0533 - bacc: 0.5018 - val_loss: 0.3018 - val_bacc: 0.4118\n",
      "Epoch 88/100\n",
      "271/271 [==============================] - 1s 5ms/sample - loss: 0.0477 - bacc: 0.5018 - val_loss: 0.3100 - val_bacc: 0.4265\n",
      "Epoch 89/100\n",
      "271/271 [==============================] - 1s 5ms/sample - loss: 0.0444 - bacc: 0.5018 - val_loss: 0.3180 - val_bacc: 0.4118\n",
      "Epoch 90/100\n",
      "271/271 [==============================] - 1s 5ms/sample - loss: 0.0373 - bacc: 0.5055 - val_loss: 0.3206 - val_bacc: 0.4412\n",
      "Epoch 91/100\n",
      "271/271 [==============================] - 1s 5ms/sample - loss: 0.0592 - bacc: 0.5018 - val_loss: 0.3707 - val_bacc: 0.4559\n",
      "Epoch 92/100\n",
      "271/271 [==============================] - 1s 5ms/sample - loss: 0.0479 - bacc: 0.5055 - val_loss: 0.3246 - val_bacc: 0.4412\n",
      "Epoch 93/100\n",
      "271/271 [==============================] - 1s 5ms/sample - loss: 0.0405 - bacc: 0.5055 - val_loss: 0.3086 - val_bacc: 0.4118\n",
      "Epoch 94/100\n",
      "271/271 [==============================] - 1s 5ms/sample - loss: 0.0422 - bacc: 0.5055 - val_loss: 0.3187 - val_bacc: 0.3971\n",
      "Epoch 95/100\n",
      "271/271 [==============================] - 1s 5ms/sample - loss: 0.0358 - bacc: 0.5055 - val_loss: 0.3115 - val_bacc: 0.4265\n",
      "Epoch 96/100\n",
      "271/271 [==============================] - 1s 5ms/sample - loss: 0.0394 - bacc: 0.5055 - val_loss: 0.4120 - val_bacc: 0.3235\n",
      "Epoch 97/100\n",
      "271/271 [==============================] - 1s 5ms/sample - loss: 0.0432 - bacc: 0.5055 - val_loss: 0.3180 - val_bacc: 0.4118\n",
      "Epoch 98/100\n",
      "271/271 [==============================] - 1s 5ms/sample - loss: 0.0298 - bacc: 0.5055 - val_loss: 0.3158 - val_bacc: 0.4265\n",
      "Epoch 99/100\n",
      "271/271 [==============================] - 1s 5ms/sample - loss: 0.0307 - bacc: 0.5055 - val_loss: 0.3063 - val_bacc: 0.4559\n",
      "Epoch 100/100\n",
      "271/271 [==============================] - 1s 5ms/sample - loss: 0.0264 - bacc: 0.5055 - val_loss: 0.2910 - val_bacc: 0.4559\n"
     ]
    },
    {
     "data": {
      "text/plain": [
       "<tensorflow.python.keras.callbacks.History at 0x2c8ae73bba8>"
      ]
     },
     "execution_count": 52,
     "metadata": {},
     "output_type": "execute_result"
    }
   ],
   "source": [
    "model.fit(xtr, ytr, epochs=100,validation_data=(xte,yte) )"
   ]
  },
  {
   "cell_type": "code",
   "execution_count": 43,
   "metadata": {
    "scrolled": true
   },
   "outputs": [
    {
     "data": {
      "text/plain": [
       "0.9734513274336283"
      ]
     },
     "execution_count": 43,
     "metadata": {},
     "output_type": "execute_result"
    }
   ],
   "source": [
    "rs=model.predict(min_size_x)\n",
    "rs_trans=[1 if i>0 else -1 for i in rs]\n",
    "sk.metrics.accuracy_score(min_size_y_,rs_trans)"
   ]
  },
  {
   "cell_type": "code",
   "execution_count": 44,
   "metadata": {},
   "outputs": [
    {
     "data": {
      "text/plain": [
       "0.5"
      ]
     },
     "execution_count": 44,
     "metadata": {},
     "output_type": "execute_result"
    }
   ],
   "source": [
    "rs=model.predict(xte)\n",
    "equals=[i for i in rs if i>0.5]\n",
    "len(equals)/len(rs)"
   ]
  },
  {
   "cell_type": "code",
   "execution_count": null,
   "metadata": {},
   "outputs": [],
   "source": []
  }
 ],
 "metadata": {
  "kernelspec": {
   "display_name": "tfgpu",
   "language": "python",
   "name": "tfgpu"
  },
  "language_info": {
   "codemirror_mode": {
    "name": "ipython",
    "version": 3
   },
   "file_extension": ".py",
   "mimetype": "text/x-python",
   "name": "python",
   "nbconvert_exporter": "python",
   "pygments_lexer": "ipython3",
   "version": "3.6.8"
  }
 },
 "nbformat": 4,
 "nbformat_minor": 2
}
