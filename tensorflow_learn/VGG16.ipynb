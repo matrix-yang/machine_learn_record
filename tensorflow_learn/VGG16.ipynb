{
 "cells": [
  {
   "cell_type": "code",
   "execution_count": 1,
   "metadata": {},
   "outputs": [],
   "source": [
    "from tensorflow.keras import Sequential\n",
    "from tensorflow.keras.layers import Dense, Activation, Conv2D, MaxPooling2D, Flatten, Dropout\n",
    "from tensorflow.keras.optimizers import Adam\n",
    "import numpy as np\n",
    "import os \n",
    "from PIL import Image"
   ]
  },
  {
   "cell_type": "code",
   "execution_count": 2,
   "metadata": {},
   "outputs": [],
   "source": [
    "def get_jpg_path(file_dir='datasets\\\\birds\\\\train\\\\'):\n",
    "    path=[]\n",
    "    clazz=[]\n",
    "    for root, dirs, files in os.walk(file_dir): \n",
    "        if len(dirs)==0:\n",
    "            cls=root[-3:]\n",
    "            cls=[int(cls)]*len(files)\n",
    "            ph=[root+\"\\\\\"+p for p in files]\n",
    "            path.extend(ph)\n",
    "            clazz.extend(cls)\n",
    "    return path,clazz\n",
    "path,clazz=get_jpg_path('datasets\\\\birds\\\\train\\\\')"
   ]
  },
  {
   "cell_type": "code",
   "execution_count": 3,
   "metadata": {},
   "outputs": [],
   "source": [
    "def enforce(img,corp=(224,224)):\n",
    "    rs=np.zeros((5,224,224,3))\n",
    "    box = [(0, 0, 224, 224),\n",
    "          (76, 0, 300, 224),\n",
    "          (76, 76, 300, 300),\n",
    "          (0, 76, 224, 300),\n",
    "          (38, 38, 262, 262)]\n",
    "    idx=0\n",
    "    for b in box:\n",
    "        region = img.crop(b)\n",
    "        npre=np.asarray(region)\n",
    "        rs[idx]=npre\n",
    "        idx+=1\n",
    "    return rs"
   ]
  },
  {
   "cell_type": "code",
   "execution_count": 4,
   "metadata": {},
   "outputs": [],
   "source": [
    "def onehot_label(clazz):\n",
    "    index=0\n",
    "    is_insight=set()\n",
    "    hot=[0]*90\n",
    "    onehot=[]\n",
    "    for i in clazz:\n",
    "        if i not in is_insight:\n",
    "            is_insight.add(i)\n",
    "            hot=[0]*90\n",
    "            hot[index]=1\n",
    "            index+=1\n",
    "        onehot.append(hot)\n",
    "        onehot.append(hot)\n",
    "        onehot.append(hot)\n",
    "        onehot.append(hot)\n",
    "        onehot.append(hot)\n",
    "    onehot=np.asarray(onehot)\n",
    "    return onehot"
   ]
  },
  {
   "cell_type": "code",
   "execution_count": 5,
   "metadata": {},
   "outputs": [],
   "source": [
    "def del_bad_imgs(path):\n",
    "    index=0\n",
    "    for p in path:\n",
    "        im=Image.open(p)\n",
    "        npim=np.asarray(im)\n",
    "        if len(npim.shape)==2:\n",
    "            os.remove(p)\n",
    "            print(index,npim.shape,\"has been removed\")\n",
    "        index+=1\n",
    "del_bad_imgs(path)"
   ]
  },
  {
   "cell_type": "code",
   "execution_count": 6,
   "metadata": {},
   "outputs": [],
   "source": [
    "def reszie_jpg(path,shape=(3830,300,300,3)):\n",
    "    imgs=[]\n",
    "    index=0\n",
    "    for p in path:\n",
    "        im=Image.open(p)\n",
    "        im=im.resize(shape[1:3])\n",
    "        ims=enforce(im)\n",
    "        for i in ims:\n",
    "            imgs.append(i)\n",
    "    return np.asarray(imgs,dtype=\"float\")"
   ]
  },
  {
   "cell_type": "code",
   "execution_count": 7,
   "metadata": {},
   "outputs": [
    {
     "data": {
      "text/plain": [
       "(19120, 224, 224, 3)"
      ]
     },
     "execution_count": 7,
     "metadata": {},
     "output_type": "execute_result"
    }
   ],
   "source": [
    "imgs=reszie_jpg(path)\n",
    "imgs.shape"
   ]
  },
  {
   "cell_type": "code",
   "execution_count": 8,
   "metadata": {},
   "outputs": [
    {
     "data": {
      "text/plain": [
       "(19120, 90)"
      ]
     },
     "execution_count": 8,
     "metadata": {},
     "output_type": "execute_result"
    }
   ],
   "source": [
    "onehot=onehot_label(clazz)\n",
    "onehot.shape"
   ]
  },
  {
   "cell_type": "code",
   "execution_count": null,
   "metadata": {},
   "outputs": [],
   "source": [
    "from sklearn.model_selection import train_test_split\n",
    "# from sklearn.preprocessing import MinMaxScaler\n",
    "# minMax = MinMaxScaler()\n",
    "# imgs = minMax.fit_transform(imgs)\n",
    "imgs=imgs/255\n",
    "xtr,xte,ytr,yte=train_test_split(imgs,onehot,test_size=0.1,random_state=1)"
   ]
  },
  {
   "cell_type": "code",
   "execution_count": 14,
   "metadata": {},
   "outputs": [],
   "source": [
    "model = Sequential()\n",
    "# BLOCK 1\n",
    "model.add(Conv2D(filters = 64, kernel_size = (9, 9), activation = 'relu', padding = 'same', name = 'block1_conv1', input_shape = (224, 224, 3)))   \n",
    "model.add(MaxPooling2D(pool_size = (4, 4), strides = (4, 4), name = 'block2_pool1'))\n",
    "model.add(Conv2D(filters = 128, kernel_size = (9, 9), activation = 'sigmoid', padding = 'same', name = 'block1_conv2'))\n",
    "model.add(MaxPooling2D(pool_size = (4, 4), strides = (4, 4), name = 'block1_pool2'))\n",
    " \n",
    "# BLOCK2\n",
    "model.add(Conv2D(filters = 256, kernel_size = (9, 9), activation = 'relu', padding = 'same', name = 'block2_conv1'))\n",
    "model.add(MaxPooling2D(pool_size = (4, 4), strides = (4, 4), name = 'block2_pool3'))\n",
    "model.add(Conv2D(filters = 512, kernel_size = (9, 9), activation = 'sigmoid', padding = 'same', name = 'block2_conv2'))\n",
    "model.add(MaxPooling2D(pool_size = (2, 2), strides = (2,2), name = 'block2_pool4'))\n",
    " \n",
    "# BLOCK3\n",
    "# model.add(Conv2D(filters = 256, kernel_size = (3, 3), activation = 'relu', padding = 'same', name = 'block3_conv1'))   \n",
    "# # model.add(Conv2D(filters = 256, kernel_size = (3, 3), activation = 'relu', padding = 'same', name = 'block3_conv2'))\n",
    "# model.add(Conv2D(filters = 512, kernel_size = (3, 3), activation = 'relu', padding = 'same', name = 'block3_conv3'))\n",
    "# model.add(MaxPooling2D(pool_size = (4, 4), strides = (4, 4), name = 'block3_pool'))\n",
    " \n",
    "# # BLOCK4\n",
    "# model.add(Conv2D(filters = 512, kernel_size = (3, 3), activation = 'relu', padding = 'same', name = 'block4_conv1'))   \n",
    "# model.add(Conv2D(filters = 512, kernel_size = (3, 3), activation = 'relu', padding = 'same', name = 'block4_conv2'))\n",
    "# model.add(Conv2D(filters = 512, kernel_size = (3, 3), activation = 'relu', padding = 'same', name = 'block4_conv3'))\n",
    "# model.add(MaxPooling2D(pool_size = (2, 2), strides = (2, 2), name = 'block4_pool'))\n",
    " \n",
    "# # BLOCK5\n",
    "# model.add(Conv2D(filters = 512, kernel_size = (3, 3), activation = 'relu', padding = 'same', name = 'block5_conv1'))   \n",
    "# model.add(Conv2D(filters = 512, kernel_size = (3, 3), activation = 'relu', padding = 'same', name = 'block5_conv2'))\n",
    "# model.add(Conv2D(filters = 512, kernel_size = (3, 3), activation = 'relu', padding = 'same', name = 'block5_conv3'))\n",
    "# model.add(MaxPooling2D(pool_size = (2, 2), strides = (2, 2), name = 'block5_pool'))\n",
    " \n",
    "model.add(Flatten())\n",
    "model.add(Dense(1024, activation = 'relu', name = 'fc1'))\n",
    "# model.add(Dropout(rate=0.2))\n",
    "model.add(Dense(1024, activation = 'relu', name = 'fc2'))\n",
    "model.add(Dropout(rate=0.2))\n",
    "model.add(Dense(90, activation = 'softmax', name = 'prediction'))"
   ]
  },
  {
   "cell_type": "code",
   "execution_count": 15,
   "metadata": {},
   "outputs": [
    {
     "name": "stdout",
     "output_type": "stream",
     "text": [
      "_________________________________________________________________\n",
      "Layer (type)                 Output Shape              Param #   \n",
      "=================================================================\n",
      "block1_conv1 (Conv2D)        (None, 224, 224, 64)      15616     \n",
      "_________________________________________________________________\n",
      "block2_pool1 (MaxPooling2D)  (None, 56, 56, 64)        0         \n",
      "_________________________________________________________________\n",
      "block1_conv2 (Conv2D)        (None, 56, 56, 128)       663680    \n",
      "_________________________________________________________________\n",
      "block1_pool2 (MaxPooling2D)  (None, 14, 14, 128)       0         \n",
      "_________________________________________________________________\n",
      "block2_conv1 (Conv2D)        (None, 14, 14, 256)       2654464   \n",
      "_________________________________________________________________\n",
      "block2_pool3 (MaxPooling2D)  (None, 3, 3, 256)         0         \n",
      "_________________________________________________________________\n",
      "block2_conv2 (Conv2D)        (None, 3, 3, 512)         10617344  \n",
      "_________________________________________________________________\n",
      "block2_pool4 (MaxPooling2D)  (None, 1, 1, 512)         0         \n",
      "_________________________________________________________________\n",
      "flatten_1 (Flatten)          (None, 512)               0         \n",
      "_________________________________________________________________\n",
      "fc1 (Dense)                  (None, 1024)              525312    \n",
      "_________________________________________________________________\n",
      "fc2 (Dense)                  (None, 1024)              1049600   \n",
      "_________________________________________________________________\n",
      "dropout_1 (Dropout)          (None, 1024)              0         \n",
      "_________________________________________________________________\n",
      "prediction (Dense)           (None, 90)                92250     \n",
      "=================================================================\n",
      "Total params: 15,618,266\n",
      "Trainable params: 15,618,266\n",
      "Non-trainable params: 0\n",
      "_________________________________________________________________\n"
     ]
    }
   ],
   "source": [
    "model.summary()"
   ]
  },
  {
   "cell_type": "code",
   "execution_count": 16,
   "metadata": {},
   "outputs": [],
   "source": [
    "model.compile(optimizer=Adam(0.1),\n",
    "              #loss='mse',\n",
    "              loss='categorical_crossentropy',\n",
    "              #loss='binary_crossentropy',\n",
    "              metrics=['accuracy'])"
   ]
  },
  {
   "cell_type": "code",
   "execution_count": 12,
   "metadata": {},
   "outputs": [],
   "source": []
  },
  {
   "cell_type": "code",
   "execution_count": 17,
   "metadata": {
    "scrolled": true
   },
   "outputs": [
    {
     "name": "stdout",
     "output_type": "stream",
     "text": [
      "Epoch 1/100\n",
      "17208/17208 [==============================] - 75s 4ms/sample - loss: 15.9009 - acc: 0.0122\n",
      "Epoch 2/100\n",
      "17208/17208 [==============================] - 73s 4ms/sample - loss: 15.9233 - acc: 0.0121\n",
      "Epoch 3/100\n",
      "17208/17208 [==============================] - 73s 4ms/sample - loss: 15.9092 - acc: 0.0130\n",
      "Epoch 4/100\n",
      "17208/17208 [==============================] - 73s 4ms/sample - loss: 15.9242 - acc: 0.0120\n",
      "Epoch 5/100\n",
      "17208/17208 [==============================] - 73s 4ms/sample - loss: 15.9139 - acc: 0.0127\n",
      "Epoch 6/100\n",
      "17208/17208 [==============================] - 73s 4ms/sample - loss: 15.9381 - acc: 0.0112\n",
      "Epoch 7/100\n",
      "17208/17208 [==============================] - 73s 4ms/sample - loss: 15.9270 - acc: 0.0119\n",
      "Epoch 8/100\n",
      "17208/17208 [==============================] - 73s 4ms/sample - loss: 15.9270 - acc: 0.0119\n",
      "Epoch 9/100\n",
      "17208/17208 [==============================] - 73s 4ms/sample - loss: 15.9270 - acc: 0.0119\n",
      "Epoch 10/100\n",
      "17208/17208 [==============================] - 73s 4ms/sample - loss: 15.9270 - acc: 0.0119\n",
      "Epoch 11/100\n",
      "17208/17208 [==============================] - 73s 4ms/sample - loss: 15.9270 - acc: 0.0119\n",
      "Epoch 12/100\n",
      "17208/17208 [==============================] - 73s 4ms/sample - loss: 15.9270 - acc: 0.0119\n",
      "Epoch 13/100\n",
      "17208/17208 [==============================] - 73s 4ms/sample - loss: 15.9270 - acc: 0.0119\n",
      "Epoch 14/100\n",
      "10816/17208 [=================>............] - ETA: 27s - loss: 15.9154 - acc: 0.0126"
     ]
    },
    {
     "ename": "KeyboardInterrupt",
     "evalue": "",
     "output_type": "error",
     "traceback": [
      "\u001b[1;31m---------------------------------------------------------------------------\u001b[0m",
      "\u001b[1;31mKeyboardInterrupt\u001b[0m                         Traceback (most recent call last)",
      "\u001b[1;32m<ipython-input-17-91acdfdbf674>\u001b[0m in \u001b[0;36m<module>\u001b[1;34m\u001b[0m\n\u001b[1;32m----> 1\u001b[1;33m \u001b[0mmodel\u001b[0m\u001b[1;33m.\u001b[0m\u001b[0mfit\u001b[0m\u001b[1;33m(\u001b[0m\u001b[0mxtr\u001b[0m\u001b[1;33m,\u001b[0m \u001b[0mytr\u001b[0m\u001b[1;33m,\u001b[0m \u001b[0mepochs\u001b[0m\u001b[1;33m=\u001b[0m\u001b[1;36m100\u001b[0m\u001b[1;33m)\u001b[0m\u001b[1;33m\u001b[0m\u001b[1;33m\u001b[0m\u001b[0m\n\u001b[0m",
      "\u001b[1;32me:\\Anaconda3\\envs\\tensorflowGPU\\lib\\site-packages\\tensorflow\\python\\keras\\engine\\training.py\u001b[0m in \u001b[0;36mfit\u001b[1;34m(self, x, y, batch_size, epochs, verbose, callbacks, validation_split, validation_data, shuffle, class_weight, sample_weight, initial_epoch, steps_per_epoch, validation_steps, max_queue_size, workers, use_multiprocessing, **kwargs)\u001b[0m\n\u001b[0;32m    878\u001b[0m           \u001b[0minitial_epoch\u001b[0m\u001b[1;33m=\u001b[0m\u001b[0minitial_epoch\u001b[0m\u001b[1;33m,\u001b[0m\u001b[1;33m\u001b[0m\u001b[1;33m\u001b[0m\u001b[0m\n\u001b[0;32m    879\u001b[0m           \u001b[0msteps_per_epoch\u001b[0m\u001b[1;33m=\u001b[0m\u001b[0msteps_per_epoch\u001b[0m\u001b[1;33m,\u001b[0m\u001b[1;33m\u001b[0m\u001b[1;33m\u001b[0m\u001b[0m\n\u001b[1;32m--> 880\u001b[1;33m           validation_steps=validation_steps)\n\u001b[0m\u001b[0;32m    881\u001b[0m \u001b[1;33m\u001b[0m\u001b[0m\n\u001b[0;32m    882\u001b[0m   def evaluate(self,\n",
      "\u001b[1;32me:\\Anaconda3\\envs\\tensorflowGPU\\lib\\site-packages\\tensorflow\\python\\keras\\engine\\training_arrays.py\u001b[0m in \u001b[0;36mmodel_iteration\u001b[1;34m(model, inputs, targets, sample_weights, batch_size, epochs, verbose, callbacks, val_inputs, val_targets, val_sample_weights, shuffle, initial_epoch, steps_per_epoch, validation_steps, mode, validation_in_fit, **kwargs)\u001b[0m\n\u001b[0;32m    327\u001b[0m \u001b[1;33m\u001b[0m\u001b[0m\n\u001b[0;32m    328\u001b[0m         \u001b[1;31m# Get outputs.\u001b[0m\u001b[1;33m\u001b[0m\u001b[1;33m\u001b[0m\u001b[1;33m\u001b[0m\u001b[0m\n\u001b[1;32m--> 329\u001b[1;33m         \u001b[0mbatch_outs\u001b[0m \u001b[1;33m=\u001b[0m \u001b[0mf\u001b[0m\u001b[1;33m(\u001b[0m\u001b[0mins_batch\u001b[0m\u001b[1;33m)\u001b[0m\u001b[1;33m\u001b[0m\u001b[1;33m\u001b[0m\u001b[0m\n\u001b[0m\u001b[0;32m    330\u001b[0m         \u001b[1;32mif\u001b[0m \u001b[1;32mnot\u001b[0m \u001b[0misinstance\u001b[0m\u001b[1;33m(\u001b[0m\u001b[0mbatch_outs\u001b[0m\u001b[1;33m,\u001b[0m \u001b[0mlist\u001b[0m\u001b[1;33m)\u001b[0m\u001b[1;33m:\u001b[0m\u001b[1;33m\u001b[0m\u001b[1;33m\u001b[0m\u001b[0m\n\u001b[0;32m    331\u001b[0m           \u001b[0mbatch_outs\u001b[0m \u001b[1;33m=\u001b[0m \u001b[1;33m[\u001b[0m\u001b[0mbatch_outs\u001b[0m\u001b[1;33m]\u001b[0m\u001b[1;33m\u001b[0m\u001b[1;33m\u001b[0m\u001b[0m\n",
      "\u001b[1;32me:\\Anaconda3\\envs\\tensorflowGPU\\lib\\site-packages\\tensorflow\\python\\keras\\backend.py\u001b[0m in \u001b[0;36m__call__\u001b[1;34m(self, inputs)\u001b[0m\n\u001b[0;32m   3074\u001b[0m \u001b[1;33m\u001b[0m\u001b[0m\n\u001b[0;32m   3075\u001b[0m     fetched = self._callable_fn(*array_vals,\n\u001b[1;32m-> 3076\u001b[1;33m                                 run_metadata=self.run_metadata)\n\u001b[0m\u001b[0;32m   3077\u001b[0m     \u001b[0mself\u001b[0m\u001b[1;33m.\u001b[0m\u001b[0m_call_fetch_callbacks\u001b[0m\u001b[1;33m(\u001b[0m\u001b[0mfetched\u001b[0m\u001b[1;33m[\u001b[0m\u001b[1;33m-\u001b[0m\u001b[0mlen\u001b[0m\u001b[1;33m(\u001b[0m\u001b[0mself\u001b[0m\u001b[1;33m.\u001b[0m\u001b[0m_fetches\u001b[0m\u001b[1;33m)\u001b[0m\u001b[1;33m:\u001b[0m\u001b[1;33m]\u001b[0m\u001b[1;33m)\u001b[0m\u001b[1;33m\u001b[0m\u001b[1;33m\u001b[0m\u001b[0m\n\u001b[0;32m   3078\u001b[0m     return nest.pack_sequence_as(self._outputs_structure,\n",
      "\u001b[1;32me:\\Anaconda3\\envs\\tensorflowGPU\\lib\\site-packages\\tensorflow\\python\\client\\session.py\u001b[0m in \u001b[0;36m__call__\u001b[1;34m(self, *args, **kwargs)\u001b[0m\n\u001b[0;32m   1437\u001b[0m           ret = tf_session.TF_SessionRunCallable(\n\u001b[0;32m   1438\u001b[0m               \u001b[0mself\u001b[0m\u001b[1;33m.\u001b[0m\u001b[0m_session\u001b[0m\u001b[1;33m.\u001b[0m\u001b[0m_session\u001b[0m\u001b[1;33m,\u001b[0m \u001b[0mself\u001b[0m\u001b[1;33m.\u001b[0m\u001b[0m_handle\u001b[0m\u001b[1;33m,\u001b[0m \u001b[0margs\u001b[0m\u001b[1;33m,\u001b[0m \u001b[0mstatus\u001b[0m\u001b[1;33m,\u001b[0m\u001b[1;33m\u001b[0m\u001b[1;33m\u001b[0m\u001b[0m\n\u001b[1;32m-> 1439\u001b[1;33m               run_metadata_ptr)\n\u001b[0m\u001b[0;32m   1440\u001b[0m         \u001b[1;32mif\u001b[0m \u001b[0mrun_metadata\u001b[0m\u001b[1;33m:\u001b[0m\u001b[1;33m\u001b[0m\u001b[1;33m\u001b[0m\u001b[0m\n\u001b[0;32m   1441\u001b[0m           \u001b[0mproto_data\u001b[0m \u001b[1;33m=\u001b[0m \u001b[0mtf_session\u001b[0m\u001b[1;33m.\u001b[0m\u001b[0mTF_GetBuffer\u001b[0m\u001b[1;33m(\u001b[0m\u001b[0mrun_metadata_ptr\u001b[0m\u001b[1;33m)\u001b[0m\u001b[1;33m\u001b[0m\u001b[1;33m\u001b[0m\u001b[0m\n",
      "\u001b[1;31mKeyboardInterrupt\u001b[0m: "
     ]
    }
   ],
   "source": [
    "model.fit(xtr, ytr, epochs=100)"
   ]
  },
  {
   "cell_type": "code",
   "execution_count": null,
   "metadata": {},
   "outputs": [],
   "source": [
    "model.fit(xtr, ytr, epochs=332)"
   ]
  },
  {
   "cell_type": "code",
   "execution_count": null,
   "metadata": {},
   "outputs": [],
   "source": [
    "rs=model.predict(imgs[0:10])\n",
    "for i in range(len(rs)):\n",
    "    print(rs[i],onehot[i])"
   ]
  },
  {
   "cell_type": "code",
   "execution_count": null,
   "metadata": {},
   "outputs": [],
   "source": [
    "Dropout?"
   ]
  },
  {
   "cell_type": "code",
   "execution_count": null,
   "metadata": {},
   "outputs": [],
   "source": []
  }
 ],
 "metadata": {
  "kernelspec": {
   "display_name": "tfgpu",
   "language": "python",
   "name": "tfgpu"
  },
  "language_info": {
   "codemirror_mode": {
    "name": "ipython",
    "version": 3
   },
   "file_extension": ".py",
   "mimetype": "text/x-python",
   "name": "python",
   "nbconvert_exporter": "python",
   "pygments_lexer": "ipython3",
   "version": "3.6.8"
  }
 },
 "nbformat": 4,
 "nbformat_minor": 2
}
